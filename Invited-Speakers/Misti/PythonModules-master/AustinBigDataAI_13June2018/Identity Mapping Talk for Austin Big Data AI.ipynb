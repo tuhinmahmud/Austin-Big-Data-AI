{
 "cells": [
  {
   "cell_type": "code",
   "execution_count": 1,
   "metadata": {
    "slideshow": {
     "slide_type": "skip"
    }
   },
   "outputs": [],
   "source": [
    "# Need to do pip install rise to run this as a slide show\n",
    "\n",
    "import matplotlib.pyplot as plt\n",
    "%matplotlib inline\n",
    "import networkx as nx\n",
    "from networkx.algorithms import bipartite"
   ]
  },
  {
   "cell_type": "markdown",
   "metadata": {
    "slideshow": {
     "slide_type": "slide"
    }
   },
   "source": [
    "# Identity Mapping\n",
    "\n",
    "## Misty Nodine\n",
    "## Data Architect, Spiceworks\n",
    "## June 13, 2018"
   ]
  },
  {
   "cell_type": "markdown",
   "metadata": {
    "slideshow": {
     "slide_type": "slide"
    }
   },
   "source": [
    "# Customer 360 View\n",
    "\n",
    "A person has multiple identities\n",
    "* A person has different identities related to email, login, browser usage, computer, …\n",
    "* Also a person can use different browsers, use multiple devices, work in multiple locations, …\n"
   ]
  },
  {
   "cell_type": "markdown",
   "metadata": {
    "slideshow": {
     "slide_type": "subslide"
    }
   },
   "source": [
    "# Customer 360 View\n",
    "\n",
    "Understanding a person means understanding what you see across all of that person’s identities\n",
    "* Better targeting of advertisements and recommended content\n",
    "* Avoid sending the same thing to multiple identities for the same person\n",
    "* Better ability to track and understand customer behavior\n",
    "* Better understanding of ROI for specific actions related to the customer"
   ]
  },
  {
   "cell_type": "markdown",
   "metadata": {
    "slideshow": {
     "slide_type": "subslide"
    }
   },
   "source": [
    "# Customer 360 View\n",
    "\n",
    "A clean understanding how our identities relate improves company operational metrics\n",
    "* Better count and characterization of visitors to our website\n",
    "* Better predictability\n",
    "* More comprehensive profiles especially of visitors who have not logged in\n",
    "  * But needs to be understood as conjecture, not fact\n",
    "* Because users typically touch your system through different means, this helps you understand how your business levers work"
   ]
  },
  {
   "cell_type": "markdown",
   "metadata": {
    "slideshow": {
     "slide_type": "slide"
    }
   },
   "source": [
    "# Customer 360 View Building Blocks\n",
    "\n",
    "When I am looking at these page, I see things that relate to multiple IDs - user ID, cookie ID, ad server ID\n",
    "\n",
    "<img src=IdentityMappingPageView.png/> "
   ]
  },
  {
   "cell_type": "markdown",
   "metadata": {
    "slideshow": {
     "slide_type": "subslide"
    }
   },
   "source": [
    "# Customer 360 View Building Blocks\n",
    "\n",
    "Similarly on Amazon\n",
    "\n",
    "<img src=IdentityMappingAmazonPageView.png/> "
   ]
  },
  {
   "cell_type": "markdown",
   "metadata": {
    "slideshow": {
     "slide_type": "slide"
    }
   },
   "source": [
    "# Customer 360 View Issues with Identifiers\n",
    "\n",
    "No identifier is both always avaialble and very reliable.\n",
    "\n",
    "\\begin{array}{|l| l| l| l|}\n",
    "\\text{Identifier} & \\text{Source} & \\text{Reliability} & \\text{Availability} \\\\\\hline\n",
    "\\text{User ID} & \\text{Registration and Login} & \\text{High} & \\text{Lower} \\\\\n",
    "\\text{Cookie ID} & \\text{Cookie assigned by you} & \\text{Lower} & \\text{Always} \\\\\n",
    "\\text{Ad Server ID} & \\text{Cookie assigned by ad server} & \\text{Lower} & \\text{High}\n",
    "\\end{array}"
   ]
  },
  {
   "cell_type": "markdown",
   "metadata": {
    "slideshow": {
     "slide_type": "skip"
    }
   },
   "source": [
    "# Customer 360 View Issues with Identifiers\n",
    "\n",
    "No identifier is both always avaialble and very reliable.\n",
    "\n",
    "Reliable = The same person will always have the same identifier in the system of IDs.\n",
    "\n",
    "| Identifier        | Source                       | Reliability  | Availability |\n",
    "| ----------------- | -----------------------------| ------------ | -------------|\n",
    "| User ID           | Registration & Login         | High         | Lower        |\n",
    "| Cookie ID         | Cookie assigned by you       | Lower        | Always       |\n",
    "| Ad Server ID      | Cookie assigned by ad server | Lower        | High         |"
   ]
  },
  {
   "cell_type": "markdown",
   "metadata": {
    "slideshow": {
     "slide_type": "subslide"
    }
   },
   "source": [
    "# Customer 360 View\n",
    "\n",
    "Different information is tied to different identities\n",
    "* User ID: Associated with your login\n",
    "  * Set when the user registers\n",
    "  * May be connected with user's profile information such as their job title\n",
    "* Cookie ID: Associated with your browser\n",
    "  * Set (if not there already) when you enter a browser session\n",
    "  * Collects information such as what the web visitor looked at, what they clicked on, how they navigated through your website, where they came from\n",
    "* Ad server ID: Associated with the ad server (e.g. Google DFP)\n",
    "  * Set by the ad server\n",
    "  * Collects information such as what ads the web visitor saw, whose ads they were, what they clicked on"
   ]
  },
  {
   "cell_type": "markdown",
   "metadata": {
    "slideshow": {
     "slide_type": "slide"
    }
   },
   "source": [
    "# Outline\n",
    "\n",
    "1. How to collect identity maps\n",
    "2. Evaluating your identity map for cleanliness\n",
    "3. Metadata use and ageing out IDs and ID maps\n",
    "4. Fingerprint use\n",
    "5. Cross-device identity mapping"
   ]
  },
  {
   "cell_type": "code",
   "execution_count": 2,
   "metadata": {
    "slideshow": {
     "slide_type": "skip"
    }
   },
   "outputs": [],
   "source": [
    "def setColorsPositions(T):\n",
    "    node_c = {'U': 'green', 'C': 'yellow', 'A': 'red'}\n",
    "    node_colors = []\n",
    "\n",
    "    node_x = {agent: idx for idx, agent in enumerate(['U', 'C', 'A'])}\n",
    "    node_positions = dict()\n",
    "\n",
    "    for node in T.nodes():\n",
    "        node_type, node_val = node.split('_')\n",
    "        node_colors.append(node_c.get(node_type, 'black'))\n",
    "        node_positions[node] = (node_x.get(node_type, 3), int(node_val))\n",
    "        \n",
    "    return node_colors, node_positions"
   ]
  },
  {
   "cell_type": "code",
   "execution_count": 3,
   "metadata": {
    "slideshow": {
     "slide_type": "skip"
    }
   },
   "outputs": [],
   "source": [
    "# 'Ideal' shape of graph\n",
    "T = nx.Graph()\n",
    "T.add_nodes_from(['U_1','U_2','U_3','U_4'])\n",
    "T.add_nodes_from(['C_1','C_2','C_3', 'C_4','C_5','C_6', 'C_7','C_8'])\n",
    "T.add_nodes_from(['A_2','A_3', 'A_4','A_5','A_6', 'A_7'])\n",
    "\n",
    "T.add_edges_from([('U_1', 'C_1'), ('U_2', 'C_2'), ('U_3', 'C_3'), ('U_4', 'C_4')])\n",
    "T.add_edges_from([('C_2', 'A_2'), ('C_3', 'A_3'), ('C_4', 'A_4'), ('C_5', 'A_5'), ('C_6', 'A_6'), ('C_7', 'A_7')])\n",
    "\n",
    "node_colors_T, node_positions_T = setColorsPositions(T)"
   ]
  },
  {
   "cell_type": "markdown",
   "metadata": {
    "slideshow": {
     "slide_type": "slide"
    }
   },
   "source": [
    "# Mapping Identity\n",
    "\n",
    "We map identities using a graph, where the nodes represent an identity and the edges represent that we know the two identities 'relate to one another'\n",
    "* Each type of identity is a different node type.\n",
    "* Edges are undirected.\n",
    "* Forms a multipartite graph, one part per ID type."
   ]
  },
  {
   "cell_type": "markdown",
   "metadata": {
    "slideshow": {
     "slide_type": "slide"
    }
   },
   "source": [
    "# Mapping Identity\n",
    "\n",
    "What (ideally) would this look like?"
   ]
  },
  {
   "cell_type": "code",
   "execution_count": 4,
   "metadata": {
    "slideshow": {
     "slide_type": "fragment"
    }
   },
   "outputs": [
    {
     "data": {
      "image/png": "[encoded data removed]",
      "text/plain": [
       "<Figure size 432x288 with 1 Axes>"
      ]
     },
     "metadata": {},
     "output_type": "display_data"
    }
   ],
   "source": [
    "nx.draw(T, with_labels=True, node_size=1000, node_color=node_colors_T, pos = node_positions_T)"
   ]
  },
  {
   "cell_type": "markdown",
   "metadata": {
    "slideshow": {
     "slide_type": "fragment"
    }
   },
   "source": [
    "Note: You will never see an identity graph that looks like this in practice."
   ]
  },
  {
   "cell_type": "markdown",
   "metadata": {
    "slideshow": {
     "slide_type": "slide"
    }
   },
   "source": [
    "# How we create the graph: Through an event stream\n",
    "\n",
    "* We keep track of normal events, e.g. Page Views.\n",
    "* Events send with info on all known IDs of the sender.\n",
    "* Pairs of IDs within a single event imply the existence of an edge.\n",
    "  * For each such pair, an edge should exist in the graph between the ID pair\n",
    "* Can update your identity map in real time."
   ]
  },
  {
   "cell_type": "code",
   "execution_count": 5,
   "metadata": {
    "slideshow": {
     "slide_type": "skip"
    }
   },
   "outputs": [],
   "source": [
    "# Sane user graph, where user may have multiple devices\n",
    "UCg = nx.Graph()\n",
    "UCg.add_nodes_from(['U_1','U_2', 'U_3'], bipartite=0)\n",
    "UCg.add_nodes_from(['C_1','C_2','C_3', 'C_4','C_5','C_6', 'C_7','C_8'], bipartite=1)\n",
    "UCg.add_edges_from([('U_1', 'C_1'), ('U_1', 'C_2'), ('U_2', 'C_3'), ('U_2', 'C_4'), ('U_3', 'C_5')])\n",
    "\n",
    "node_colors_UCg, node_positions_UCg = setColorsPositions(UCg)"
   ]
  },
  {
   "cell_type": "code",
   "execution_count": 6,
   "metadata": {
    "slideshow": {
     "slide_type": "subslide"
    }
   },
   "outputs": [
    {
     "name": "stdout",
     "output_type": "stream",
     "text": [
      "Good Graph: \n"
     ]
    },
    {
     "data": {
      "image/png": "[encoded data removed]",
      "text/plain": [
       "<Figure size 432x288 with 1 Axes>"
      ]
     },
     "metadata": {},
     "output_type": "display_data"
    }
   ],
   "source": [
    "print \"Good Graph: \" \n",
    "\n",
    "nx.draw(UCg, with_labels=True, node_size=1000, node_color=node_colors_UCg, pos = node_positions_UCg)"
   ]
  },
  {
   "cell_type": "code",
   "execution_count": 7,
   "metadata": {
    "slideshow": {
     "slide_type": "skip"
    }
   },
   "outputs": [],
   "source": [
    "# Bad user graph\n",
    "UCb = nx.Graph()\n",
    "UCb.add_nodes_from(['U_1','U_2', 'U_3', 'U_4', 'U_5'], bipartite=0)\n",
    "UCb.add_nodes_from(['C_1','C_2','C_3', 'C_4','C_5','C_6', 'C_7', 'C_8', 'C_9', 'C_10', 'C_11', 'C_12', 'C_13'], bipartite=1)\n",
    "UCb.add_edges_from([('U_1', 'C_1'), ('U_1', 'C_2'), ('U_2', 'C_2'), ('U_2', 'C_3'), \n",
    "                    ('U_3', 'C_3'), ('U_3', 'C_4'), ('U_4', 'C_5'), ('U_5', 'C_6')])\n",
    "\n",
    "node_colors_UCb, node_positions_UCb = setColorsPositions(UCb)"
   ]
  },
  {
   "cell_type": "code",
   "execution_count": 8,
   "metadata": {
    "slideshow": {
     "slide_type": "subslide"
    }
   },
   "outputs": [
    {
     "name": "stdout",
     "output_type": "stream",
     "text": [
      "Bad Graph: \n"
     ]
    },
    {
     "data": {
      "image/png": "[encoded data removed]",
      "text/plain": [
       "<Figure size 432x288 with 1 Axes>"
      ]
     },
     "metadata": {},
     "output_type": "display_data"
    }
   ],
   "source": [
    "print \"Bad Graph: \"\n",
    "\n",
    "nx.draw(UCb, with_labels=True, node_size=1000, node_color=node_colors_UCb, pos = node_positions_UCb)"
   ]
  },
  {
   "cell_type": "markdown",
   "metadata": {
    "slideshow": {
     "slide_type": "slide"
    }
   },
   "source": [
    "# Evaluating your ID Graph\n",
    "\n",
    "* In this case, we assume that each user has one login, so we should not see an ID from a cookie associated with more than one user ID.\n",
    "* A user could have more than one ID from a cookie because they could have multiple devices, for instance."
   ]
  },
  {
   "cell_type": "markdown",
   "metadata": {
    "slideshow": {
     "slide_type": "subslide"
    }
   },
   "source": [
    "# Evaluating your ID Graph\n",
    "\n",
    "Degree of a Node = Number of edges incident on the node.\n",
    "\n",
    "How do we evaluate the quality of the mapping?\n",
    "* Average / min / max number of edges incident on each side\n",
    "* For the user IDs may be multiple edges, may want to max out at some reasonable number of devices.\n",
    "* For the IDs from the cookie want to see one only"
   ]
  },
  {
   "cell_type": "code",
   "execution_count": 9,
   "metadata": {
    "slideshow": {
     "slide_type": "subslide"
    }
   },
   "outputs": [
    {
     "name": "stdout",
     "output_type": "stream",
     "text": [
      "Good graph: \n",
      "User ID degrees: max/ave/min = 2 / 1.66666666667 / 1\n",
      "Cookie ID degrees: max/ave/min = 1 / 0.625 / 0\n",
      "\n",
      "Bad graph: \n",
      "User ID degrees: max/ave/min = 2 / 1.6 / 1\n",
      "Cookie ID degrees: max/ave/min = 2 / 0.615384615385 / 0\n"
     ]
    }
   ],
   "source": [
    "user_good = dict(nx.degree(UCg, set(n for n,d in UCg.nodes(data=True) if d['bipartite']==0))).values()\n",
    "cookie_good = dict(nx.degree(UCg, set(n for n,d in UCg.nodes(data=True) if d['bipartite']==1))).values()\n",
    "\n",
    "print \"Good graph: \"\n",
    "print \"User ID degrees: max/ave/min =\", max(user_good), '/',  \\\n",
    "                                        sum(user_good) / float(len(user_good)), '/', \\\n",
    "                                        min(user_good)\n",
    "print \"Cookie ID degrees: max/ave/min =\", max(cookie_good), '/',  \\\n",
    "                                          sum(cookie_good) / float(len(cookie_good)), '/', \\\n",
    "                                          min(cookie_good)\n",
    "\n",
    "user_bad = dict(nx.degree(UCb, set(n for n,d in UCb.nodes(data=True) if d['bipartite']==0))).values()\n",
    "cookie_bad = dict(nx.degree(UCb, set(n for n,d in UCb.nodes(data=True) if d['bipartite']==1))).values()\n",
    "\n",
    "print \"\"\n",
    "print \"Bad graph: \"\n",
    "print \"User ID degrees: max/ave/min =\", max(user_bad), '/',  \\\n",
    "                                        sum(user_bad) / float(len(user_bad)), '/', \\\n",
    "                                        min(user_bad)\n",
    "print \"Cookie ID degrees: max/ave/min =\", max(cookie_bad), '/',  \\\n",
    "                                          sum(cookie_bad) / float(len(cookie_bad)), '/', \\\n",
    "                                          min(cookie_bad)"
   ]
  },
  {
   "cell_type": "markdown",
   "metadata": {
    "slideshow": {
     "slide_type": "slide"
    }
   },
   "source": [
    "# Using Connected Components\n",
    "\n",
    "In graph theory, a connected component of an undirected graph is a subgraph \n",
    "in which any two vertices are connected to each other by paths, \n",
    "and which is connected to no additional vertices in the supergraph.\n",
    "Finding the connected components is basically a depth-first search algorithm.\n",
    "\n",
    "This graph has six connected components."
   ]
  },
  {
   "cell_type": "code",
   "execution_count": 10,
   "metadata": {
    "slideshow": {
     "slide_type": "fragment"
    }
   },
   "outputs": [
    {
     "data": {
      "image/png": "[encoded data removed]",
      "text/plain": [
       "<Figure size 432x288 with 1 Axes>"
      ]
     },
     "metadata": {},
     "output_type": "display_data"
    }
   ],
   "source": [
    "nx.draw(UCg, with_labels=True, node_size=1000, node_color=node_colors_UCg, pos = node_positions_UCg)"
   ]
  },
  {
   "cell_type": "markdown",
   "metadata": {
    "slideshow": {
     "slide_type": "subslide"
    }
   },
   "source": [
    "# Using Connected Components to Evaluate (User ID Perspective)\n",
    "\n",
    "* Edges in the graph imply the two IDs relate to the same person\n",
    "* In this particular situation, we assume that the login identifier (user_id) maps cleanly to a person\n",
    "* If there is a connected component in the bipartite graph, that spans (in this case) multiple users, then we likely have some people confused with each other."
   ]
  },
  {
   "cell_type": "code",
   "execution_count": 11,
   "metadata": {
    "slideshow": {
     "slide_type": "skip"
    }
   },
   "outputs": [],
   "source": [
    "def get_components(G):\n",
    "    [c for c in sorted(nx.connected_components(UCg), key=len, reverse=True)]\n",
    "    \n",
    "def num_users(component):\n",
    "    return len([i for i in component if i.startswith('U')])\n",
    "\n",
    "def component_users(G):\n",
    "    return sorted([num_users(c) for c in nx.connected_components(G)], reverse=True)"
   ]
  },
  {
   "cell_type": "code",
   "execution_count": 12,
   "metadata": {
    "slideshow": {
     "slide_type": "fragment"
    }
   },
   "outputs": [
    {
     "name": "stdout",
     "output_type": "stream",
     "text": [
      "Good graph:  [1, 1, 1, 0, 0, 0]\n"
     ]
    }
   ],
   "source": [
    "print \"Good graph: \", component_users(UCg)"
   ]
  },
  {
   "cell_type": "code",
   "execution_count": 13,
   "metadata": {
    "slideshow": {
     "slide_type": "fragment"
    }
   },
   "outputs": [
    {
     "name": "stdout",
     "output_type": "stream",
     "text": [
      "Bad graph:  [3, 1, 1, 0, 0, 0, 0, 0, 0, 0]\n"
     ]
    }
   ],
   "source": [
    "print \"Bad graph: \", component_users(UCb)"
   ]
  },
  {
   "cell_type": "markdown",
   "metadata": {
    "slideshow": {
     "slide_type": "subslide"
    }
   },
   "source": [
    "# Using Connected Components to Evaluate (Cookie ID Perspective)\n",
    "\n",
    "* Proliferation of cookie IDs for the same user is also bad"
   ]
  },
  {
   "cell_type": "code",
   "execution_count": 14,
   "metadata": {
    "slideshow": {
     "slide_type": "skip"
    }
   },
   "outputs": [],
   "source": [
    "UCx = nx.Graph()\n",
    "\n",
    "UCx.add_nodes_from(['U_1','U_2'], bipartite=0)\n",
    "UCx.add_nodes_from(['C_1','C_2','C_3', 'C_4','C_5','C_6', 'C_7','C_8', 'C_9','C_10'], bipartite=1)\n",
    "UCx.add_edges_from([('U_1', 'C_1'), ('U_2', 'C_2'), ('U_2', 'C_3'), ('U_2', 'C_4'), \n",
    "                    ('U_2', 'C_5'), ('U_2', 'C_6'), ('U_2', 'C_7'), ('U_2', 'C_8'), ('U_2', 'C_9')])\n",
    "\n",
    "node_colors_UCx, node_positions_UCx = setColorsPositions(UCx)"
   ]
  },
  {
   "cell_type": "code",
   "execution_count": 15,
   "metadata": {
    "slideshow": {
     "slide_type": "fragment"
    }
   },
   "outputs": [
    {
     "name": "stdout",
     "output_type": "stream",
     "text": [
      "Bushy Graph: \n"
     ]
    },
    {
     "data": {
      "image/png": "[encoded data removed]",
      "text/plain": [
       "<Figure size 432x288 with 1 Axes>"
      ]
     },
     "metadata": {},
     "output_type": "display_data"
    }
   ],
   "source": [
    "print \"Bushy Graph: \"\n",
    "\n",
    "nx.draw(UCx, with_labels=True, node_size=1000, node_color=node_colors_UCx, pos = node_positions_UCx)"
   ]
  },
  {
   "cell_type": "code",
   "execution_count": 16,
   "metadata": {
    "slideshow": {
     "slide_type": "subslide"
    }
   },
   "outputs": [
    {
     "name": "stdout",
     "output_type": "stream",
     "text": [
      "Bushy graph: \n",
      "User ID degrees: max/ave/min = 8 / 4.5 / 1\n",
      "Cookie ID degrees: max/ave/min = 1 / 0.9 / 0\n"
     ]
    }
   ],
   "source": [
    "user_bushy = dict(nx.degree(UCx, set(n for n,d in UCx.nodes(data=True) if d['bipartite']==0))).values()\n",
    "cookie_bushy = dict(nx.degree(UCx, set(n for n,d in UCx.nodes(data=True) if d['bipartite']==1))).values()\n",
    "\n",
    "print \"Bushy graph: \"\n",
    "print \"User ID degrees: max/ave/min =\", max(user_bushy), '/',  \\\n",
    "                                        sum(user_bushy) / float(len(user_bushy)), '/', \\\n",
    "                                        min(user_bushy)\n",
    "print \"Cookie ID degrees: max/ave/min =\", max(cookie_bushy), '/',  \\\n",
    "                                          sum(cookie_bushy) / float(len(cookie_bushy)), '/', \\\n",
    "                                          min(cookie_bushy)"
   ]
  },
  {
   "cell_type": "code",
   "execution_count": 17,
   "metadata": {
    "slideshow": {
     "slide_type": "skip"
    }
   },
   "outputs": [],
   "source": [
    "def num_cookies(component):\n",
    "    return len([i for i in component if i.startswith('C')])\n",
    "\n",
    "def component_cookies(G):\n",
    "    return sorted([num_cookies(c) for c in nx.connected_components(G)], reverse=True)"
   ]
  },
  {
   "cell_type": "code",
   "execution_count": 18,
   "metadata": {
    "slideshow": {
     "slide_type": "fragment"
    }
   },
   "outputs": [
    {
     "name": "stdout",
     "output_type": "stream",
     "text": [
      "[1, 1, 0]\n",
      "[8, 1, 1]\n"
     ]
    }
   ],
   "source": [
    "print component_users(UCx)\n",
    "print component_cookies(UCx)"
   ]
  },
  {
   "cell_type": "markdown",
   "metadata": {
    "slideshow": {
     "slide_type": "slide"
    }
   },
   "source": [
    "# Cleanness in Cookie ID assignment\n",
    "\n",
    "Here, the issue is with the cookie IDs, how clean are they?\n",
    "* A single source for assigning cookie IDs can check that the same cookie ID is not assigned to multiple users.\n",
    "* Problems occur when multiple users share the same computer.\n",
    "* Cookies could be reassigned more frequently than they need to be assigned."
   ]
  },
  {
   "cell_type": "markdown",
   "metadata": {
    "slideshow": {
     "slide_type": "slide"
    }
   },
   "source": [
    "# Improving our Graph through Edge Metadata\n",
    "\n",
    "We are observing an edge every time we get a page view that matches both the user ID and the cookie ID on the endpoints.\n",
    "\n",
    "Keep data on how recently we have observed the edge\n",
    "* Update a last_date_seen on the edge every time we observe the edges.\n",
    "* Age out edges that we have not observed recently enough.\n",
    "* Can combine this with a count of how many times we have observed the edge.\n",
    "\n",
    "Use weighted edges\n",
    "* Each time we observe an edge, we add 1 to its weight.\n",
    "* Every day we decay the weight by some exponential decay factor.\n",
    "* Remove edges when their weight falls below a predetermined threshold."
   ]
  },
  {
   "cell_type": "markdown",
   "metadata": {
    "slideshow": {
     "slide_type": "slide"
    }
   },
   "source": [
    "# Merging Cookie IDs Using Fingerprinting\n",
    "\n",
    "Each time a user starts a browser session, use characteristics of the user to determine whether you should assign a new cookie ID or reassign an existing one\n",
    "* Browser characteristics (from the browser's useragent): Browser family, Browser version, Computer OS family, Computer OS version, Device family, Device brand, Device model, Country, Locale\n",
    "* Using the IP address the person is using you can get: Country, City, Postal code, DMA code, Area code, Region, Organization, ISP flag, Containing IP range\n",
    "\n",
    "Some of this information is more stable than others. Identify a stable and sufficiently distinguishing set. This becomes the user fingerprint.\n"
   ]
  },
  {
   "cell_type": "markdown",
   "metadata": {
    "slideshow": {
     "slide_type": "slide"
    }
   },
   "source": [
    "# Merging Cookie IDs Using Fingerprinting\n",
    "\n",
    "When we see a user without a cookie ID:\n",
    "1. Pull the fingerprint information for the user.\n",
    "1. Check if we have seen that fingerprint before. If so, reassign the same cookie ID you assigned last time.\n",
    "1. Otherwise, assign a new, unique cookie ID.\n",
    "\n",
    "At Spiceworks, adding a single, fingerprint-based service for assignment of cookie IDs led to an improvement in the number of extra user IDs per connected component by about 54%."
   ]
  },
  {
   "cell_type": "markdown",
   "metadata": {
    "slideshow": {
     "slide_type": "slide"
    }
   },
   "source": [
    "# Incorporating Additional IDs\n",
    "\n",
    "Also look at a different method for creating edges in our graph."
   ]
  },
  {
   "cell_type": "markdown",
   "metadata": {
    "slideshow": {
     "slide_type": "slide"
    }
   },
   "source": [
    "# How we expand the graph: Through cookie matching\n",
    "\n",
    "* Process to match an ad server ID to your cookie ID using the browser.\n",
    "  * You set your cookie in your domain, they set their cookie in their domain. \n",
    "  * The security model of the browser restricts one party from reading the cookie set by another party.\n",
    "  * Cookie matching uses markup, pixels and redirects to enable it to communicate with you enough to map the IDs.\n",
    "* Google has a good explanation for cookie matching at https://developers.google.com/ad-exchange/rtb/cookie-guide.\n",
    "* The result of the cookie matching process is that your application has a match table between the two identifiers.\n",
    "* Can just batch import the resulting match table or can update the graph in real time as matches are found (e.g. using an event stream)."
   ]
  },
  {
   "cell_type": "markdown",
   "metadata": {
    "slideshow": {
     "slide_type": "subslide"
    }
   },
   "source": [
    "# Advertisers and Cookie IDs\n",
    "\n",
    "Here is our Page View, it has an advertisement. When an advertisement shows, we know we have a cookie match between the cookie ID and the advertiser's ID.\n",
    "\n",
    "<img src=IdentityMappingPageView.png/>\n"
   ]
  },
  {
   "cell_type": "markdown",
   "metadata": {
    "slideshow": {
     "slide_type": "slide"
    }
   },
   "source": [
    "# Cleanliness in the Cookie ID to Ad Server ID Mapping\n",
    "\n",
    "* Because of the way the Cookie IDs and Ad server IDs are collected, processes for ageing out IDs and edges in the graph may be different.\n",
    "  \n"
   ]
  },
  {
   "cell_type": "markdown",
   "metadata": {
    "slideshow": {
     "slide_type": "slide"
    }
   },
   "source": [
    "# Cross-Device Identity Mapping"
   ]
  },
  {
   "cell_type": "markdown",
   "metadata": {
    "slideshow": {
     "slide_type": "subslide"
    }
   },
   "source": [
    "# Cross-Device Identity Mapping Using User ID\n",
    "\n",
    "The same person on different devices will have different cookie IDs, hopefully one per device. Cross-device identity matching tries to group a set of cookie IDs that belong to a single user.\n",
    "\n",
    "* Assuming the cookie IDs use browser / device data as a part of their fingerprint\n",
    "* You can assume that multiple cookie IDs have edges to a common User ID belong to the same person\n",
    "* This can allow you to tie behavior that a user has on your system when not logged in to that user\n",
    "* Very reliable method for cross-device matching but ...\n",
    "* But ... most of the people that visit the website never become users, so have no user_id"
   ]
  },
  {
   "cell_type": "markdown",
   "metadata": {
    "slideshow": {
     "slide_type": "subslide"
    }
   },
   "source": [
    "# Cross-Device Identity Mapping Using Ad Server ID\n",
    "\n",
    "The same person on different devices will have different cookie IDs, hopefully one per device. Cross-device identity matching tries to group a set of cookie IDs that belong to a single user.\n",
    "\n",
    "* A second method is to rely on your ad server to do the matching and match with their ID.\n",
    "  * Similar accuracy to using the User ID, but the ID is not your own\n",
    "  * Bonus is that most cookie IDs can be matched to ad server IDs, unlike with User ID\n",
    "* This is becoming harder in the era of privacy regulation, so may not always be possible."
   ]
  },
  {
   "cell_type": "markdown",
   "metadata": {
    "slideshow": {
     "slide_type": "subslide"
    }
   },
   "source": [
    "# Cross-Device Identity Mapping Using Fingerprinting\n",
    "\n",
    "This method does not use either the user ID or an ad server ID\n",
    "\n",
    "* A third method is to use predictive models based on things like IP addresses, browsing patterns and device proximity to try to determine whether multiple devices belong to the same person. (Similar to fingerprinting, above)\n",
    "  * Methods like this are used behind the scenes by the advertisers.\n",
    "* This process is more complex, because the user will be on different devices, browsers, apps, ... \n",
    "  * Also, some types of user attributes will be observable from one device or app but not from another\n",
    "* Looks at all the different attributes you can observe currently about your user and tries to match to know attributes of known users, e.g. using ML or similarity metrics\n",
    "* Match is probabilistic"
   ]
  },
  {
   "cell_type": "markdown",
   "metadata": {
    "slideshow": {
     "slide_type": "slide"
    }
   },
   "source": [
    "# Spiceworks is Hiring!!! : www.spiceworks.com/jobs\n",
    "\n",
    "# My Contact Info :  mistyn@spiceworks.com"
   ]
  }
 ],
 "metadata": {
  "celltoolbar": "Slideshow",
  "kernelspec": {
   "display_name": "Python 2",
   "language": "python",
   "name": "python2"
  },
  "language_info": {
   "codemirror_mode": {
    "name": "ipython",
    "version": 2
   },
   "file_extension": ".py",
   "mimetype": "text/x-python",
   "name": "python",
   "nbconvert_exporter": "python",
   "pygments_lexer": "ipython2",
   "version": "2.7.11"
  }
 },
 "nbformat": 4,
 "nbformat_minor": 2
}
