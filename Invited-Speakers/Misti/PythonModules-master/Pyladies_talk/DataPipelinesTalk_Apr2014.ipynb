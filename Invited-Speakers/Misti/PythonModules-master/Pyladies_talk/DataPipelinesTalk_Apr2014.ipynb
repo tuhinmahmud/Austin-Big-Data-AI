{
 "metadata": {
  "name": "DataPipelinesTalk_Apr2014"
 },
 "nbformat": 3,
 "nbformat_minor": 0,
 "worksheets": [
  {
   "cells": [
    {
     "cell_type": "heading",
     "level": 1,
     "metadata": {},
     "source": [
      "Using a dictionary to access a record"
     ]
    },
    {
     "cell_type": "code",
     "collapsed": false,
     "input": [
      "header = [\"\",\"pclass\",\"survived\",\"name\",\"sex\",\"age\",\"sibsp\",\"parch\",\"ticket\",\"fare\",\"cabin\",\"embarked\",\"boat\",\"body\",\"home.dest\"]\n",
      "body = [\"1\",\"1st\",1,\"Allen, Miss. Elisabeth Walton\",\"female\",29,0,0,\"24160\",211.337494,\"B5\",\"Southampton\",\"2\",\"\",\"St Louis, MO\"]"
     ],
     "language": "python",
     "metadata": {},
     "outputs": [],
     "prompt_number": 38
    },
    {
     "cell_type": "code",
     "collapsed": false,
     "input": [
      "zip(header, body)"
     ],
     "language": "python",
     "metadata": {},
     "outputs": [
      {
       "output_type": "pyout",
       "prompt_number": 39,
       "text": [
        "[('', '1'),\n",
        " ('pclass', '1st'),\n",
        " ('survived', 1),\n",
        " ('name', 'Allen, Miss. Elisabeth Walton'),\n",
        " ('sex', 'female'),\n",
        " ('age', 29),\n",
        " ('sibsp', 0),\n",
        " ('parch', 0),\n",
        " ('ticket', '24160'),\n",
        " ('fare', 211.337494),\n",
        " ('cabin', 'B5'),\n",
        " ('embarked', 'Southampton'),\n",
        " ('boat', '2'),\n",
        " ('body', ''),\n",
        " ('home.dest', 'St Louis, MO')]"
       ]
      }
     ],
     "prompt_number": 39
    },
    {
     "cell_type": "code",
     "collapsed": false,
     "input": [
      "dict(zip(header, body))"
     ],
     "language": "python",
     "metadata": {},
     "outputs": [
      {
       "output_type": "pyout",
       "prompt_number": 40,
       "text": [
        "{'': '1',\n",
        " 'age': 29,\n",
        " 'boat': '2',\n",
        " 'body': '',\n",
        " 'cabin': 'B5',\n",
        " 'embarked': 'Southampton',\n",
        " 'fare': 211.337494,\n",
        " 'home.dest': 'St Louis, MO',\n",
        " 'name': 'Allen, Miss. Elisabeth Walton',\n",
        " 'parch': 0,\n",
        " 'pclass': '1st',\n",
        " 'sex': 'female',\n",
        " 'sibsp': 0,\n",
        " 'survived': 1,\n",
        " 'ticket': '24160'}"
       ]
      }
     ],
     "prompt_number": 40
    },
    {
     "cell_type": "code",
     "collapsed": false,
     "input": [
      "miss_allen = dict(zip(header, body))\n",
      "miss_allen['embarked']"
     ],
     "language": "python",
     "metadata": {},
     "outputs": [
      {
       "output_type": "pyout",
       "prompt_number": 41,
       "text": [
        "'Southampton'"
       ]
      }
     ],
     "prompt_number": 41
    },
    {
     "cell_type": "code",
     "collapsed": false,
     "input": [
      "dict(zip(header, range(len(header))))"
     ],
     "language": "python",
     "metadata": {},
     "outputs": [
      {
       "output_type": "pyout",
       "prompt_number": 43,
       "text": [
        "{'': 0,\n",
        " 'age': 5,\n",
        " 'boat': 12,\n",
        " 'body': 13,\n",
        " 'cabin': 10,\n",
        " 'embarked': 11,\n",
        " 'fare': 9,\n",
        " 'home.dest': 14,\n",
        " 'name': 3,\n",
        " 'parch': 7,\n",
        " 'pclass': 1,\n",
        " 'sex': 4,\n",
        " 'sibsp': 6,\n",
        " 'survived': 2,\n",
        " 'ticket': 8}"
       ]
      }
     ],
     "prompt_number": 43
    },
    {
     "cell_type": "heading",
     "level": 1,
     "metadata": {},
     "source": [
      "Reading a file line by line"
     ]
    },
    {
     "cell_type": "code",
     "collapsed": false,
     "input": [
      "titanic_file = './titanic.csv'"
     ],
     "language": "python",
     "metadata": {},
     "outputs": [],
     "prompt_number": 5
    },
    {
     "cell_type": "code",
     "collapsed": false,
     "input": [
      "def print_first_n_lines(file_name, count):\n",
      "    with open(file_name, 'r') as inf:\n",
      "        # Magic incantation\n",
      "        print '\\n'.join([inf.next().rstrip() for x in xrange(count)])\n",
      "\n",
      "print_first_n_lines(titanic_file, 4)"
     ],
     "language": "python",
     "metadata": {},
     "outputs": [
      {
       "output_type": "stream",
       "stream": "stdout",
       "text": [
        "\"\",\"pclass\",\"survived\",\"name\",\"sex\",\"age\",\"sibsp\",\"parch\",\"ticket\",\"fare\",\"cabin\",\"embarked\",\"boat\",\"body\",\"home.dest\"\n",
        "\"1\",\"1st\",1,\"Allen, Miss. Elisabeth Walton\",\"female\",29,0,0,\"24160\",211.337494,\"B5\",\"Southampton\",\"2\",NA,\"St Louis, MO\"\n",
        "\"2\",\"1st\",1,\"Allison, Master. Hudson Trevor\",\"male\",0.916700006,1,2,\"113781\",151.550003,\"C22 C26\",\"Southampton\",\"11\",NA,\"Montreal, PQ / Chesterville, ON\"\n",
        "\"3\",\"1st\",0,\"Allison, Miss. Helen Loraine\",\"female\",2,1,2,\"113781\",151.550003,\"C22 C26\",\"Southampton\",\"\",NA,\"Montreal, PQ / Chesterville, ON\"\n"
       ]
      }
     ],
     "prompt_number": 6
    },
    {
     "cell_type": "code",
     "collapsed": false,
     "input": [
      "import csv\n",
      "def read_file(file_path):\n",
      "    \"\"\"\n",
      "    Generator that reads a file, and yields each row in turn as a dict\n",
      "    :param file_path: The path to the input file\n",
      "    \"\"\"\n",
      "    # Read a csv file and yield each row\n",
      "    with open(file_path, \"rb\") as infile:\n",
      "        rdr = csv.reader(infile)\n",
      "        header = next(rdr)  # Read off the first line as the header\n",
      "        for row in rdr:\n",
      "            yield dict(zip(header, row))  # Yield each row's dictionary in turn\n",
      "    return"
     ],
     "language": "python",
     "metadata": {},
     "outputs": [],
     "prompt_number": 7
    },
    {
     "cell_type": "code",
     "collapsed": false,
     "input": [
      "# An easier way to do read 3 lines ...\n",
      "line_count = 0\n",
      "for line in read_file(titanic_file):\n",
      "    print line\n",
      "    line_count = line_count+1\n",
      "    if line_count > 3:\n",
      "        break"
     ],
     "language": "python",
     "metadata": {},
     "outputs": [
      {
       "output_type": "stream",
       "stream": "stdout",
       "text": [
        "{'': '1', 'fare': '211.337494', 'name': 'Allen, Miss. Elisabeth Walton', 'embarked': 'Southampton', 'age': '29', 'body': 'NA', 'parch': '0', 'pclass': '1st', 'sex': 'female', 'boat': '2', 'survived': '1', 'sibsp': '0', 'home.dest': 'St Louis, MO', 'ticket': '24160', 'cabin': 'B5'}\n",
        "{'': '2', 'fare': '151.550003', 'name': 'Allison, Master. Hudson Trevor', 'embarked': 'Southampton', 'age': '0.916700006', 'body': 'NA', 'parch': '2', 'pclass': '1st', 'sex': 'male', 'boat': '11', 'survived': '1', 'sibsp': '1', 'home.dest': 'Montreal, PQ / Chesterville, ON', 'ticket': '113781', 'cabin': 'C22 C26'}\n",
        "{'': '3', 'fare': '151.550003', 'name': 'Allison, Miss. Helen Loraine', 'embarked': 'Southampton', 'age': '2', 'body': 'NA', 'parch': '2', 'pclass': '1st', 'sex': 'female', 'boat': '', 'survived': '0', 'sibsp': '1', 'home.dest': 'Montreal, PQ / Chesterville, ON', 'ticket': '113781', 'cabin': 'C22 C26'}\n",
        "{'': '4', 'fare': '151.550003', 'name': 'Allison, Mr. Hudson Joshua Crei', 'embarked': 'Southampton', 'age': '30', 'body': '135', 'parch': '2', 'pclass': '1st', 'sex': 'male', 'boat': '', 'survived': '0', 'sibsp': '1', 'home.dest': 'Montreal, PQ / Chesterville, ON', 'ticket': '113781', 'cabin': 'C22 C26'}\n"
       ]
      }
     ],
     "prompt_number": 8
    },
    {
     "cell_type": "heading",
     "level": 1,
     "metadata": {},
     "source": [
      "Mapping input records to output records"
     ]
    },
    {
     "cell_type": "markdown",
     "metadata": {},
     "source": [
      "So, let's make an output record. In this record we want:\n",
      "\n",
      "* The person's name\n",
      "* The person's gender (M or F)\n",
      "* The number of relatives on board (parch + sibsp)"
     ]
    },
    {
     "cell_type": "code",
     "collapsed": false,
     "input": [
      "out_header = ['name', 'gender', 'num_relatives']"
     ],
     "language": "python",
     "metadata": {},
     "outputs": [],
     "prompt_number": 44
    },
    {
     "cell_type": "code",
     "collapsed": false,
     "input": [
      "def get_name(entry):\n",
      "    \"\"\"\n",
      "    Get the name of the person for the output record\n",
      "    :param record: The data record for the person\n",
      "    :return The person's name\n",
      "    :rtype str\n",
      "    \"\"\"\n",
      "    return entry['name']"
     ],
     "language": "python",
     "metadata": {},
     "outputs": [],
     "prompt_number": 45
    },
    {
     "cell_type": "code",
     "collapsed": false,
     "input": [
      "this_name = get_name(miss_allen)\n",
      "print this_name"
     ],
     "language": "python",
     "metadata": {},
     "outputs": [
      {
       "output_type": "stream",
       "stream": "stdout",
       "text": [
        "Allen, Miss. Elisabeth Walton\n"
       ]
      }
     ],
     "prompt_number": 46
    },
    {
     "cell_type": "code",
     "collapsed": false,
     "input": [
      "def get_gender(entry):\n",
      "    \"\"\"\n",
      "    Get the name of the person for the output record\n",
      "    :param record: The data record for the person\n",
      "    :return The person's gender (M/F/?)\n",
      "    :rtype str\n",
      "    \"\"\"\n",
      "    sex = entry.get('sex', None)\n",
      "    if sex == 'male':\n",
      "        gender = 'M'\n",
      "    elif sex == 'female':\n",
      "        gender = 'F'\n",
      "    else:\n",
      "        gender = '?'\n",
      "    return gender"
     ],
     "language": "python",
     "metadata": {},
     "outputs": [],
     "prompt_number": 47
    },
    {
     "cell_type": "code",
     "collapsed": false,
     "input": [
      "this_gender = get_gender(miss_allen)\n",
      "print this_gender"
     ],
     "language": "python",
     "metadata": {},
     "outputs": [
      {
       "output_type": "stream",
       "stream": "stdout",
       "text": [
        "F\n"
       ]
      }
     ],
     "prompt_number": 48
    },
    {
     "cell_type": "code",
     "collapsed": false,
     "input": [
      "def get_num_relatives(entry):\n",
      "    \"\"\"\n",
      "    Get the number of relatives of the person that were on the Titanic for the output record\n",
      "    :param record: The data record for the person\n",
      "    :return The number of relatives\n",
      "    :rtype int\n",
      "    \"\"\"\n",
      "    siblings_spouses = int(entry.get('sibsp', '0'))\n",
      "    parents_children = int(entry.get('parch', '0'))\n",
      "    return siblings_spouses + parents_children\n",
      "    "
     ],
     "language": "python",
     "metadata": {},
     "outputs": [],
     "prompt_number": 49
    },
    {
     "cell_type": "code",
     "collapsed": false,
     "input": [
      "this_relatives = get_num_relatives(miss_allen)\n",
      "print this_relatives"
     ],
     "language": "python",
     "metadata": {},
     "outputs": [
      {
       "output_type": "stream",
       "stream": "stdout",
       "text": [
        "0\n"
       ]
      }
     ],
     "prompt_number": 50
    },
    {
     "cell_type": "code",
     "collapsed": false,
     "input": [
      "out_row = [this_name, this_gender, this_relatives]\n",
      "print out_row"
     ],
     "language": "python",
     "metadata": {},
     "outputs": [
      {
       "output_type": "stream",
       "stream": "stdout",
       "text": [
        "['Allen, Miss. Elisabeth Walton', 'F', 0]\n"
       ]
      }
     ],
     "prompt_number": 51
    },
    {
     "cell_type": "code",
     "collapsed": false,
     "input": [
      "print dict(zip(out_header, out_row))"
     ],
     "language": "python",
     "metadata": {},
     "outputs": [
      {
       "output_type": "stream",
       "stream": "stdout",
       "text": [
        "{'gender': 'F', 'num_relatives': 0, 'name': 'Allen, Miss. Elisabeth Walton'}\n"
       ]
      }
     ],
     "prompt_number": 52
    },
    {
     "cell_type": "heading",
     "level": 1,
     "metadata": {},
     "source": [
      "A more adventurous way ..."
     ]
    },
    {
     "cell_type": "raw",
     "metadata": {},
     "source": [
      "(Advanced material)\n",
      "Recall that functions are objects in Python. All of the functions we defined above take a dictionary from the csv file as an argument and return a value. We can use this regularity to make things more efficient (not necessarily clearer)."
     ]
    },
    {
     "cell_type": "raw",
     "metadata": {},
     "source": [
      "In python, functions are first-class objects like data is. So, you can provide the function and the arguments separately."
     ]
    },
    {
     "cell_type": "code",
     "collapsed": false,
     "input": [
      "def plus_one(my_int):\n",
      "    return my_int + 1\n",
      "\n",
      "def times_two(my_int):\n",
      "    return my_int * 2"
     ],
     "language": "python",
     "metadata": {},
     "outputs": [],
     "prompt_number": 53
    },
    {
     "cell_type": "code",
     "collapsed": false,
     "input": [
      "def apply_to_int(my_function, my_int):\n",
      "    return my_function(my_int)"
     ],
     "language": "python",
     "metadata": {},
     "outputs": [],
     "prompt_number": 54
    },
    {
     "cell_type": "code",
     "collapsed": false,
     "input": [
      "print apply_to_int(plus_one, 5)"
     ],
     "language": "python",
     "metadata": {},
     "outputs": [
      {
       "output_type": "stream",
       "stream": "stdout",
       "text": [
        "6\n"
       ]
      }
     ],
     "prompt_number": 55
    },
    {
     "cell_type": "code",
     "collapsed": false,
     "input": [
      "print apply_to_int(times_two, 5)"
     ],
     "language": "python",
     "metadata": {},
     "outputs": [
      {
       "output_type": "stream",
       "stream": "stdout",
       "text": [
        "10\n"
       ]
      }
     ],
     "prompt_number": 56
    },
    {
     "cell_type": "code",
     "collapsed": false,
     "input": [
      "# Define a dictionary that maps the name from the out_header to the function that computes its value\n",
      "map_functions = {'name': get_name, \n",
      "                 'gender': get_gender, \n",
      "                 'num_relatives': get_num_relatives}"
     ],
     "language": "python",
     "metadata": {},
     "outputs": [],
     "prompt_number": 22
    },
    {
     "cell_type": "code",
     "collapsed": false,
     "input": [
      "print map_functions['name']"
     ],
     "language": "python",
     "metadata": {},
     "outputs": [
      {
       "output_type": "stream",
       "stream": "stdout",
       "text": [
        "<function get_name at 0x10239c500>\n"
       ]
      }
     ],
     "prompt_number": 57
    },
    {
     "cell_type": "code",
     "collapsed": false,
     "input": [
      "print map_functions['name'](miss_allen)"
     ],
     "language": "python",
     "metadata": {},
     "outputs": [
      {
       "output_type": "stream",
       "stream": "stdout",
       "text": [
        "Allen, Miss. Elisabeth Walton\n"
       ]
      }
     ],
     "prompt_number": 58
    },
    {
     "cell_type": "raw",
     "metadata": {},
     "source": [
      "So, you need to define one entry in your dictionary for every thing you want to put out in the out_header:"
     ]
    },
    {
     "cell_type": "code",
     "collapsed": false,
     "input": [
      "print 'OUT HEADER'\n",
      "print out_header\n",
      "print 'MAP FUNCTIONS'\n",
      "print map_functions"
     ],
     "language": "python",
     "metadata": {},
     "outputs": [
      {
       "output_type": "stream",
       "stream": "stdout",
       "text": [
        "OUT HEADER\n",
        "['name', 'gender', 'num_relatives']\n",
        "MAP FUNCTIONS\n",
        "{'gender': <function get_gender at 0x1023a8230>, 'num_relatives': <function get_num_relatives at 0x1023a8398>, 'name': <function get_name at 0x10239c500>}\n"
       ]
      }
     ],
     "prompt_number": 25
    },
    {
     "cell_type": "raw",
     "metadata": {},
     "source": [
      "You can then compute the output row using a list comprehension"
     ]
    },
    {
     "cell_type": "code",
     "collapsed": false,
     "input": [
      "out_row = [map_functions[field](miss_allen) for field in out_header]\n",
      "print out_row"
     ],
     "language": "python",
     "metadata": {},
     "outputs": [
      {
       "output_type": "stream",
       "stream": "stdout",
       "text": [
        "['Allen, Miss. Elisabeth Walton', 'F', 0]\n"
       ]
      }
     ],
     "prompt_number": 26
    },
    {
     "cell_type": "raw",
     "metadata": {},
     "source": [
      "You can also compute the record corresponding to the output row all at once in a dictionary comprehension"
     ]
    },
    {
     "cell_type": "code",
     "collapsed": false,
     "input": [
      "out_record = {field: map_functions[field](miss_allen) for field in out_header}\n",
      "print out_record"
     ],
     "language": "python",
     "metadata": {},
     "outputs": [
      {
       "output_type": "stream",
       "stream": "stdout",
       "text": [
        "{'gender': 'F', 'num_relatives': 0, 'name': 'Allen, Miss. Elisabeth Walton'}\n"
       ]
      }
     ],
     "prompt_number": 27
    },
    {
     "cell_type": "heading",
     "level": 1,
     "metadata": {},
     "source": [
      "Putting it together and writing it all out"
     ]
    },
    {
     "cell_type": "code",
     "collapsed": false,
     "input": [
      "import os\n",
      "working_dir = '.'\n",
      "output_filename = 'titanic_processed.csv'\n",
      "output_titanic_file = os.path.join(working_dir, output_filename)\n",
      "print output_titanic_file"
     ],
     "language": "python",
     "metadata": {},
     "outputs": [
      {
       "output_type": "stream",
       "stream": "stdout",
       "text": [
        "./titanic_processed.csv\n"
       ]
      }
     ],
     "prompt_number": 60
    },
    {
     "cell_type": "code",
     "collapsed": false,
     "input": [
      "titanic_out_header = ['name', 'gender', 'num_relatives']\n",
      "def do_etl_1(in_file, out_header, out_file):\n",
      "    with open(out_file, 'w') as outf:\n",
      "        wtr = csv.writer(outf)\n",
      "        wtr.writerow(out_header)\n",
      "        for entry in read_file(in_file):\n",
      "            this_name = get_name(entry)\n",
      "            this_gender = get_gender(entry)\n",
      "            this_relatives = get_num_relatives(entry)\n",
      "            out_row = [this_name, this_gender, this_relatives]\n",
      "            wtr.writerow(out_row)\n",
      "        \n",
      "do_etl_1(titanic_file, titanic_out_header, output_titanic_file)"
     ],
     "language": "python",
     "metadata": {},
     "outputs": [],
     "prompt_number": 29
    },
    {
     "cell_type": "code",
     "collapsed": false,
     "input": [
      "# Check the first few lines of output\n",
      "print_first_n_lines(output_titanic_file, 4)"
     ],
     "language": "python",
     "metadata": {},
     "outputs": [
      {
       "output_type": "stream",
       "stream": "stdout",
       "text": [
        "name,gender,num_relatives\n",
        "\"Allen, Miss. Elisabeth Walton\",F,0\n",
        "\"Allison, Master. Hudson Trevor\",M,3\n",
        "\"Allison, Miss. Helen Loraine\",F,3\n"
       ]
      }
     ],
     "prompt_number": 30
    },
    {
     "cell_type": "code",
     "collapsed": false,
     "input": [
      "# Now the more challenging way\n",
      "output_titanic_file_2 = './titanic_processed_2.csv'\n",
      "def do_etl_2(in_file, out_header, out_file):\n",
      "    with open(out_file, 'w') as outf:\n",
      "        wtr = csv.writer(outf)\n",
      "        wtr.writerow(out_header)\n",
      "        for entry in read_file(in_file):\n",
      "            wtr.writerow([map_functions[field](entry) for field in out_header])\n",
      "        \n",
      "do_etl_2(titanic_file, titanic_out_header, output_titanic_file_2)"
     ],
     "language": "python",
     "metadata": {},
     "outputs": [],
     "prompt_number": 61
    },
    {
     "cell_type": "code",
     "collapsed": false,
     "input": [
      "# Check the first few lines of output\n",
      "print_first_n_lines(output_titanic_file_2, 4)"
     ],
     "language": "python",
     "metadata": {},
     "outputs": [
      {
       "output_type": "stream",
       "stream": "stdout",
       "text": [
        "name,gender,num_relatives\n",
        "\"Allen, Miss. Elisabeth Walton\",F,0\n",
        "\"Allison, Master. Hudson Trevor\",M,3\n",
        "\"Allison, Miss. Helen Loraine\",F,3\n"
       ]
      }
     ],
     "prompt_number": 62
    },
    {
     "cell_type": "heading",
     "level": 1,
     "metadata": {},
     "source": [
      "Summarizing your data"
     ]
    },
    {
     "cell_type": "code",
     "collapsed": false,
     "input": [
      "output_titanic_file_3 = './titanic_processed_3.csv'\n",
      "\n",
      "def do_etl_3(in_file, out_header, out_file):\n",
      "    total_people = males = females = other = 0\n",
      "    with open(out_file, 'w') as outf:\n",
      "        wtr = csv.writer(outf)\n",
      "        wtr.writerow(out_header)\n",
      "        for entry in read_file(in_file):\n",
      "            ## Keep a running total to compute averages\n",
      "            total_people += 1\n",
      "            gender = get_gender(entry)\n",
      "            if gender == 'M':\n",
      "                males += 1\n",
      "            elif gender == 'F':\n",
      "                females += 1\n",
      "            else:\n",
      "                other += 1\n",
      "            \n",
      "            wtr.writerow([map_functions[field](entry) for field in out_header])\n",
      "            \n",
      "    # Now wrap up your statistics\n",
      "    percent_males = float(males) / float(total_people)\n",
      "    percent_females = float(females) / float(total_people)\n",
      "    percent_other = float(other) / float(total_people)\n",
      "    \n",
      "    # Return the statistics as a tuple\n",
      "    return percent_males, percent_females, percent_other\n",
      "        \n",
      "print do_etl_3(titanic_file, titanic_out_header, output_titanic_file_3)"
     ],
     "language": "python",
     "metadata": {},
     "outputs": [
      {
       "output_type": "stream",
       "stream": "stdout",
       "text": [
        "(0.6440030557677616, 0.3559969442322384, 0.0)\n"
       ]
      }
     ],
     "prompt_number": 63
    },
    {
     "cell_type": "heading",
     "level": 1,
     "metadata": {},
     "source": [
      "One thing to watch for ..."
     ]
    },
    {
     "cell_type": "raw",
     "metadata": {},
     "source": [
      "If you export a file from excel, the line endings may end up being wrong. You will get this:"
     ]
    },
    {
     "cell_type": "code",
     "collapsed": false,
     "input": [
      "titanic_file_2 = './titanic_bad.csv'\n",
      "print_first_n_lines(titanic_file_2, 2)"
     ],
     "language": "python",
     "metadata": {},
     "outputs": [
      {
       "ename": "StopIteration",
       "evalue": "",
       "output_type": "pyerr",
       "traceback": [
        "\u001b[0;31m---------------------------------------------------------------------------\u001b[0m\n\u001b[0;31mStopIteration\u001b[0m                             Traceback (most recent call last)",
        "\u001b[0;32m<ipython-input-65-2e171fb995da>\u001b[0m in \u001b[0;36m<module>\u001b[0;34m()\u001b[0m\n\u001b[1;32m      1\u001b[0m \u001b[0mtitanic_file_2\u001b[0m \u001b[0;34m=\u001b[0m \u001b[0;34m'./titanic_bad.csv'\u001b[0m\u001b[0;34m\u001b[0m\u001b[0m\n\u001b[0;32m----> 2\u001b[0;31m \u001b[0mprint_first_n_lines\u001b[0m\u001b[0;34m(\u001b[0m\u001b[0mtitanic_file_2\u001b[0m\u001b[0;34m,\u001b[0m \u001b[0;36m2\u001b[0m\u001b[0;34m)\u001b[0m\u001b[0;34m\u001b[0m\u001b[0m\n\u001b[0m",
        "\u001b[0;32m<ipython-input-6-0b7d34a9be59>\u001b[0m in \u001b[0;36mprint_first_n_lines\u001b[0;34m(file_name, count)\u001b[0m\n\u001b[1;32m      2\u001b[0m     \u001b[0;32mwith\u001b[0m \u001b[0mopen\u001b[0m\u001b[0;34m(\u001b[0m\u001b[0mfile_name\u001b[0m\u001b[0;34m,\u001b[0m \u001b[0;34m'r'\u001b[0m\u001b[0;34m)\u001b[0m \u001b[0;32mas\u001b[0m \u001b[0minf\u001b[0m\u001b[0;34m:\u001b[0m\u001b[0;34m\u001b[0m\u001b[0m\n\u001b[1;32m      3\u001b[0m         \u001b[0;31m# Magic incantation\u001b[0m\u001b[0;34m\u001b[0m\u001b[0;34m\u001b[0m\u001b[0m\n\u001b[0;32m----> 4\u001b[0;31m         \u001b[0;32mprint\u001b[0m \u001b[0;34m'\\n'\u001b[0m\u001b[0;34m.\u001b[0m\u001b[0mjoin\u001b[0m\u001b[0;34m(\u001b[0m\u001b[0;34m[\u001b[0m\u001b[0minf\u001b[0m\u001b[0;34m.\u001b[0m\u001b[0mnext\u001b[0m\u001b[0;34m(\u001b[0m\u001b[0;34m)\u001b[0m\u001b[0;34m.\u001b[0m\u001b[0mrstrip\u001b[0m\u001b[0;34m(\u001b[0m\u001b[0;34m)\u001b[0m \u001b[0;32mfor\u001b[0m \u001b[0mx\u001b[0m \u001b[0;32min\u001b[0m \u001b[0mxrange\u001b[0m\u001b[0;34m(\u001b[0m\u001b[0mcount\u001b[0m\u001b[0;34m)\u001b[0m\u001b[0;34m]\u001b[0m\u001b[0;34m)\u001b[0m\u001b[0;34m\u001b[0m\u001b[0m\n\u001b[0m\u001b[1;32m      5\u001b[0m \u001b[0;34m\u001b[0m\u001b[0m\n\u001b[1;32m      6\u001b[0m \u001b[0mprint_first_n_lines\u001b[0m\u001b[0;34m(\u001b[0m\u001b[0mtitanic_file\u001b[0m\u001b[0;34m,\u001b[0m \u001b[0;36m4\u001b[0m\u001b[0;34m)\u001b[0m\u001b[0;34m\u001b[0m\u001b[0m\n",
        "\u001b[0;31mStopIteration\u001b[0m: "
       ]
      }
     ],
     "prompt_number": 65
    },
    {
     "cell_type": "raw",
     "metadata": {},
     "source": [
      "You could also see this error message:\n",
      "\n",
      "Error: new-line character seen in unquoted field - do you need to open the file in universal-newline mode?"
     ]
    },
    {
     "cell_type": "code",
     "collapsed": false,
     "input": [
      "print_first_n_lines(titanic_file_2, 1)"
     ],
     "language": "python",
     "metadata": {},
     "outputs": [
      {
       "ename": "StopIteration",
       "evalue": "",
       "output_type": "pyerr",
       "traceback": [
        "\u001b[0;31m---------------------------------------------------------------------------\u001b[0m\n\u001b[0;31mStopIteration\u001b[0m                             Traceback (most recent call last)",
        "\u001b[0;32m<ipython-input-34-745b63edd24c>\u001b[0m in \u001b[0;36m<module>\u001b[0;34m()\u001b[0m\n\u001b[0;32m----> 1\u001b[0;31m \u001b[0mprint_first_n_lines\u001b[0m\u001b[0;34m(\u001b[0m\u001b[0mtitanic_file_2\u001b[0m\u001b[0;34m,\u001b[0m \u001b[0;36m1\u001b[0m\u001b[0;34m)\u001b[0m\u001b[0;34m\u001b[0m\u001b[0m\n\u001b[0m",
        "\u001b[0;32m<ipython-input-6-0b7d34a9be59>\u001b[0m in \u001b[0;36mprint_first_n_lines\u001b[0;34m(file_name, count)\u001b[0m\n\u001b[1;32m      2\u001b[0m     \u001b[0;32mwith\u001b[0m \u001b[0mopen\u001b[0m\u001b[0;34m(\u001b[0m\u001b[0mfile_name\u001b[0m\u001b[0;34m,\u001b[0m \u001b[0;34m'r'\u001b[0m\u001b[0;34m)\u001b[0m \u001b[0;32mas\u001b[0m \u001b[0minf\u001b[0m\u001b[0;34m:\u001b[0m\u001b[0;34m\u001b[0m\u001b[0m\n\u001b[1;32m      3\u001b[0m         \u001b[0;31m# Magic incantation\u001b[0m\u001b[0;34m\u001b[0m\u001b[0;34m\u001b[0m\u001b[0m\n\u001b[0;32m----> 4\u001b[0;31m         \u001b[0;32mprint\u001b[0m \u001b[0;34m'\\n'\u001b[0m\u001b[0;34m.\u001b[0m\u001b[0mjoin\u001b[0m\u001b[0;34m(\u001b[0m\u001b[0;34m[\u001b[0m\u001b[0minf\u001b[0m\u001b[0;34m.\u001b[0m\u001b[0mnext\u001b[0m\u001b[0;34m(\u001b[0m\u001b[0;34m)\u001b[0m\u001b[0;34m.\u001b[0m\u001b[0mrstrip\u001b[0m\u001b[0;34m(\u001b[0m\u001b[0;34m)\u001b[0m \u001b[0;32mfor\u001b[0m \u001b[0mx\u001b[0m \u001b[0;32min\u001b[0m \u001b[0mxrange\u001b[0m\u001b[0;34m(\u001b[0m\u001b[0mcount\u001b[0m\u001b[0;34m)\u001b[0m\u001b[0;34m]\u001b[0m\u001b[0;34m)\u001b[0m\u001b[0;34m\u001b[0m\u001b[0m\n\u001b[0m\u001b[1;32m      5\u001b[0m \u001b[0;34m\u001b[0m\u001b[0m\n\u001b[1;32m      6\u001b[0m \u001b[0mprint_first_n_lines\u001b[0m\u001b[0;34m(\u001b[0m\u001b[0mtitanic_file\u001b[0m\u001b[0;34m,\u001b[0m \u001b[0;36m4\u001b[0m\u001b[0;34m)\u001b[0m\u001b[0;34m\u001b[0m\u001b[0m\n",
        "\u001b[0;31mStopIteration\u001b[0m: "
       ]
      }
     ],
     "prompt_number": 34
    },
    {
     "cell_type": "code",
     "collapsed": false,
     "input": [
      "mytext = 'foo\\rbar'\n",
      "print mytext\n"
     ],
     "language": "python",
     "metadata": {},
     "outputs": [
      {
       "output_type": "stream",
       "stream": "stdout",
       "text": [
        "foo\r",
        "bar\n"
       ]
      }
     ],
     "prompt_number": 66
    },
    {
     "cell_type": "code",
     "collapsed": false,
     "input": [
      "mytext = \"\\n\".join(mytext.split(\"\\r\"))\n",
      "print mytext"
     ],
     "language": "python",
     "metadata": {},
     "outputs": [
      {
       "output_type": "stream",
       "stream": "stdout",
       "text": [
        "foo\n",
        "bar\n"
       ]
      }
     ],
     "prompt_number": 36
    },
    {
     "cell_type": "raw",
     "metadata": {},
     "source": [
      "I am not sure how to fix this in Python, but you can fix it from the Unix or linux command line using this command:\n",
      "\n",
      "> tr '\\r', '\\n' < titanic_file_2 > './titanic_file_2_cleaned.csv'"
     ]
    },
    {
     "cell_type": "raw",
     "metadata": {},
     "source": [
      "[Note: Maddy says you can fix this in Python using '!tr ....]"
     ]
    }
   ],
   "metadata": {}
  }
 ]
}