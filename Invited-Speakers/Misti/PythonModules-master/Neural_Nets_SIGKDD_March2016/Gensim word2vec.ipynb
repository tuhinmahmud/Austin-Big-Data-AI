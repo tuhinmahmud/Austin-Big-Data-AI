{
 "cells": [
  {
   "cell_type": "code",
   "execution_count": 1,
   "metadata": {
    "collapsed": false
   },
   "outputs": [
    {
     "name": "stdout",
     "output_type": "stream",
     "text": [
      "[nltk_data] Error loading punkt: <urlopen error [Errno 8] nodename nor\n",
      "[nltk_data]     servname provided, or not known>\n"
     ]
    },
    {
     "data": {
      "text/plain": [
       "False"
      ]
     },
     "execution_count": 1,
     "metadata": {},
     "output_type": "execute_result"
    }
   ],
   "source": [
    "import gensim\n",
    "import pandas as pd\n",
    "from bs4 import BeautifulSoup\n",
    "import re\n",
    "from nltk.tokenize import sent_tokenize\n",
    "import nltk.data\n",
    "nltk.download('punkt')"
   ]
  },
  {
   "cell_type": "markdown",
   "metadata": {},
   "source": [
    "# Prepare the inputs"
   ]
  },
  {
   "cell_type": "code",
   "execution_count": null,
   "metadata": {
    "collapsed": false
   },
   "outputs": [],
   "source": [
    "# The training data can be downloaded from \n",
    "# https://www.kaggle.com/c/word2vec-nlp-tutorial/data\n",
    "unlabeled_train = pd.read_csv(\"unlabeledTrainData.tsv\", header=0, delimiter=\"\\t\", quoting=3)\n",
    "sentences = []\n",
    "for review in unlabeled_train[\"review\"]:\n",
    "    # Split the paragraph into sentences\n",
    "    try:\n",
    "        review = review.decode('ascii', 'ignore')\n",
    "        raw_sentences = sent_tokenize(review.strip())\n",
    "        for rs in raw_sentences:\n",
    "            # If the sentence is nonempty convert to a list of words\n",
    "            if len(rs) > 0:\n",
    "                # Remove HTML tags and nonletters, then lowercase\n",
    "                review_text = BeautifulSoup(review, \"html.parser\").get_text()\n",
    "                review_text = re.sub(\"[^a-zA-Z]\",\" \", review_text)\n",
    "                review_text = review_text.lower()\n",
    "\n",
    "                # Otherwise, call review_to_wordlist to get a list of words\n",
    "                sentences.append(review_text.split())\n",
    "    except Exception as e:\n",
    "        print review\n",
    "        print e\n",
    "\n",
    "# Test\n",
    "print sentences[:1]\n",
    "\n",
    "# Should be:\n",
    "# [[u'watching', u'time', u'chasers', u'it', u'obvious', u'that', u'it', u'was', u'made', u'by', u'a', u'bunch', u'of', u'friends', u'maybe', u'they', u'were', u'sitting', u'around', u'one', u'day', u'in', u'film', u'school', u'and', u'said', u'hey', u'let', u's', u'pool', u'our', u'money', u'together', u'and', u'make', u'a', u'really', u'bad', u'movie', u'or', u'something', u'like', u'that', u'what', u'ever', u'they', u'said', u'they', u'still', u'ended', u'up', u'making', u'a', u'really', u'bad', u'movie', u'dull', u'story', u'bad', u'script', u'lame', u'acting', u'poor', u'cinematography', u'bottom', u'of', u'the', u'barrel', u'stock', u'music', u'etc', u'all', u'corners', u'were', u'cut', u'except', u'the', u'one', u'that', u'would', u'have', u'prevented', u'this', u'film', u's', u'release', u'life', u's', u'like', u'that']]"
   ]
  },
  {
   "cell_type": "markdown",
   "metadata": {},
   "source": [
    "# Train the Model"
   ]
  },
  {
   "cell_type": "code",
   "execution_count": null,
   "metadata": {
    "collapsed": true
   },
   "outputs": [],
   "source": [
    "# Set values for various parameters\n",
    "sg=1                  # Use skip_gram as opposed to cbow\n",
    "num_features = 300    # Word vector dimensionality                      \n",
    "min_word_count = 20   # Minimum word count                        \n",
    "num_workers = 4       # Number of threads to run in parallel\n",
    "context = 10          # Context window size                                                                                    \n",
    "downsampling = 1e-3   # Downsample setting for frequent words"
   ]
  },
  {
   "cell_type": "code",
   "execution_count": null,
   "metadata": {
    "collapsed": false
   },
   "outputs": [],
   "source": [
    "# Initialize and train the model (this will take some time)\n",
    "from gensim.models import word2vec\n",
    "print \"Training model...\"\n",
    "model = word2vec.Word2Vec(sentences, workers=num_workers, \\\n",
    "            size=num_features, min_count = min_word_count, \\\n",
    "            window = context, sg=sg, sample = downsampling)\n",
    "model.save('./mymodel_movie_reviews')\n",
    "print \"...Done\""
   ]
  },
  {
   "cell_type": "markdown",
   "metadata": {},
   "source": [
    "# Use the model"
   ]
  },
  {
   "cell_type": "code",
   "execution_count": 2,
   "metadata": {
    "collapsed": false
   },
   "outputs": [],
   "source": [
    "new_model = gensim.models.Word2Vec.load('./mymodel_movie_reviews')"
   ]
  },
  {
   "cell_type": "code",
   "execution_count": 4,
   "metadata": {
    "collapsed": false
   },
   "outputs": [
    {
     "data": {
      "text/plain": [
       "[(u'woman', 0.35663580894470215)]"
      ]
     },
     "execution_count": 4,
     "metadata": {},
     "output_type": "execute_result"
    }
   ],
   "source": [
    "new_model.most_similar(positive=['husband', 'man'], negative='wife', topn=1)"
   ]
  },
  {
   "cell_type": "code",
   "execution_count": 5,
   "metadata": {
    "collapsed": false
   },
   "outputs": [
    {
     "data": {
      "text/plain": [
       "'tree'"
      ]
     },
     "execution_count": 5,
     "metadata": {},
     "output_type": "execute_result"
    }
   ],
   "source": [
    "new_model.doesnt_match(\"scene costume tree actor\".split())\n",
    "# Should be 'tree'"
   ]
  },
  {
   "cell_type": "code",
   "execution_count": 3,
   "metadata": {
    "collapsed": false
   },
   "outputs": [
    {
     "data": {
      "text/plain": [
       "0.48511547857168397"
      ]
     },
     "execution_count": 3,
     "metadata": {},
     "output_type": "execute_result"
    }
   ],
   "source": [
    "new_model.similarity('good', 'bad')"
   ]
  },
  {
   "cell_type": "code",
   "execution_count": 6,
   "metadata": {
    "collapsed": false
   },
   "outputs": [
    {
     "name": "stdout",
     "output_type": "stream",
     "text": [
      "300\n",
      "[  1.29108980e-01  -2.41659917e-02  -3.53948474e-02   6.83904961e-02\n",
      "  -1.00694224e-03   4.18567844e-03   7.70894215e-02  -1.00809708e-01\n",
      "  -2.12428104e-02  -2.05542948e-02   1.65275574e-01  -1.78873584e-01\n",
      "   5.13368323e-02   2.64769793e-01   4.11492325e-02   1.98992908e-01\n",
      "   3.51657793e-02   9.09533910e-03  -1.96469054e-01  -8.49656686e-02\n",
      "  -7.29236975e-02   9.03672576e-02  -1.82572696e-02   1.43599316e-01\n",
      "   9.71580371e-02   7.90011212e-02   1.28936529e-01  -3.87321860e-02\n",
      "   2.65798513e-02   8.90215933e-02  -6.58069551e-02  -9.62048620e-02\n",
      "   4.84529734e-02  -1.92115352e-01  -1.43481731e-01  -4.66957763e-02\n",
      "  -1.03409141e-01   6.42854795e-02   3.00124139e-02   1.15883842e-01\n",
      "  -7.01519176e-02   6.06129654e-02  -6.15574569e-02  -1.14056312e-01\n",
      "   8.58952478e-02  -1.19828664e-01   5.71376123e-02  -1.48606867e-01\n",
      "  -1.06906697e-01  -1.95837580e-02  -1.52783364e-01  -1.58696249e-02\n",
      "   8.73960704e-02  -4.94958945e-02  -4.38045012e-03  -5.69973737e-02\n",
      "   1.76323265e-01  -4.54487242e-02   1.40166357e-01  -6.02826625e-02\n",
      "   1.86564010e-02  -9.64828953e-02  -3.62025723e-02   6.91427886e-02\n",
      "   7.56641701e-02  -1.44713193e-01   2.20826089e-01  -6.89552054e-02\n",
      "  -1.86435096e-02   3.55516607e-03  -5.01200743e-02   2.48100236e-01\n",
      "  -6.84079342e-03   1.16824329e-01  -7.13833608e-03  -4.44284752e-02\n",
      "  -2.33469419e-02  -3.60695124e-02  -2.27106921e-02  -5.75523973e-02\n",
      "  -1.79387983e-02   4.00719456e-02   2.60609593e-02   3.87970656e-02\n",
      "  -6.51446357e-03  -1.70006424e-01  -6.38014674e-02  -9.30973217e-02\n",
      "  -1.36326581e-01   1.29447743e-01   1.23008229e-01   3.13204490e-02\n",
      "  -6.61619082e-02  -2.71658935e-02  -8.98773447e-02   1.58050925e-01\n",
      "  -3.13189700e-02   9.15553942e-02  -4.11704890e-02  -4.63620909e-02\n",
      "  -5.77481054e-02  -8.76930356e-02   2.66818388e-04  -6.91116303e-02\n",
      "   6.93706200e-02   2.42227856e-02  -1.69546660e-02  -8.13795067e-03\n",
      "  -3.11653651e-02   7.23318979e-02   6.98756054e-02   2.92619150e-02\n",
      "   6.34740815e-02   1.62780341e-02   4.81169596e-02  -6.69599324e-02\n",
      "   5.44439591e-02   4.73998673e-02   3.53800729e-02   1.18716381e-01\n",
      "  -1.85396090e-01   1.90973967e-01   1.81361929e-01  -1.70091778e-01\n",
      "  -1.34123847e-01   6.79477304e-02   4.94780913e-02   6.48245402e-03\n",
      "  -6.07768446e-02  -8.25978965e-02  -1.37371123e-01  -6.94614872e-02\n",
      "  -2.17736010e-02  -1.10179164e-01  -2.42164060e-02   9.29152295e-02\n",
      "   8.42182934e-02   2.97613107e-02   2.15557348e-02   1.18164100e-01\n",
      "  -7.07254708e-02   4.08411585e-02   1.63063422e-01  -6.30620867e-02\n",
      "  -8.16229731e-02  -3.48368362e-02   1.52477506e-03   1.59294859e-01\n",
      "  -3.28859873e-02   1.05862536e-01  -4.98590395e-02   1.75559700e-01\n",
      "   1.42901000e-02  -3.61866551e-03   1.30832896e-01   2.80798804e-02\n",
      "   1.18218489e-01  -7.73615316e-02  -8.80215019e-02   3.99550870e-02\n",
      "  -9.13171694e-02  -2.03430862e-03   1.31483302e-01  -1.62046123e-02\n",
      "   2.78582811e-01  -1.21065445e-01   9.17454809e-02   3.30374651e-02\n",
      "   5.26847951e-02  -4.15794738e-03   1.14234211e-02  -2.78762053e-03\n",
      "   1.25365034e-01   1.34639516e-01   5.20291552e-03   1.08072765e-01\n",
      "   4.84194048e-02   1.18964031e-01  -3.04380395e-02   2.10034028e-01\n",
      "   5.25110997e-02   2.04526141e-01   1.24947969e-02   9.04661790e-02\n",
      "   9.09623280e-02  -1.13696139e-02  -5.60464300e-02  -2.90906709e-02\n",
      "  -6.76428452e-02   2.54702061e-01  -1.17204875e-01   1.69983596e-01\n",
      "  -7.94525351e-03   1.71762928e-01  -1.11626662e-01  -1.54156759e-01\n",
      "  -6.28451258e-02   2.31360450e-01  -8.85934755e-02  -1.57210864e-02\n",
      "   9.89394858e-02   1.19001582e-01   1.04383588e-01   1.61356293e-02\n",
      "   1.31065771e-01  -4.94771525e-02   8.32463149e-03  -1.49893701e-01\n",
      "  -9.02347565e-02   2.37088520e-02   5.65127805e-02   2.11004019e-02\n",
      "   1.43547133e-01  -7.50461519e-02  -3.69524993e-02   2.35764794e-02\n",
      "   4.71093766e-02   1.09957084e-01   1.20155163e-01  -1.68143399e-02\n",
      "  -1.31251201e-01   4.46849726e-02   6.35485947e-02  -3.58599573e-02\n",
      "   1.75920911e-02   4.86391634e-02  -1.65868476e-01   3.86024229e-02\n",
      "  -6.81497008e-02  -8.63585919e-02  -1.24559954e-01  -4.15974483e-02\n",
      "  -1.74843848e-01  -1.44604370e-01   1.42199144e-01   1.23514690e-01\n",
      "  -9.89766642e-02   8.87585729e-02   1.15643613e-01  -1.04001343e-01\n",
      "  -2.06907570e-01   8.60192478e-02  -1.18308570e-02   3.65402289e-02\n",
      "   1.45573348e-01   1.27884001e-01   1.15434125e-01   4.18863110e-02\n",
      "   2.11877059e-02   7.44838789e-02   1.23055562e-01   1.69568136e-01\n",
      "   1.36065576e-02  -1.31615460e-01  -5.02102673e-02  -8.59102681e-02\n",
      "  -1.04317032e-01  -3.55179654e-04   1.76431924e-01  -9.66741145e-02\n",
      "  -2.94656791e-02   1.29667401e-01  -1.33360149e-02  -7.92968869e-02\n",
      "   6.60778433e-02  -9.18311551e-02  -3.90950628e-02   9.22531337e-02\n",
      "   1.47404253e-01   2.08715782e-01  -1.36515424e-02   1.24378584e-01\n",
      "  -4.65714298e-02  -2.38217250e-01   8.72605518e-02   9.57953334e-02\n",
      "   9.29956213e-02  -1.46176010e-01   2.81815939e-02   1.17414467e-01\n",
      "   3.47784683e-02  -2.02549119e-02  -8.12364817e-02   3.39033199e-04\n",
      "  -2.99631413e-02   9.12021622e-02   1.10516928e-01  -7.57272318e-02\n",
      "   1.85150042e-01   7.43110180e-02  -6.08908497e-02  -4.25510146e-02\n",
      "   4.25275937e-02  -1.74102113e-02  -4.43703420e-02   2.19144061e-01\n",
      "   7.59673789e-02  -1.11566037e-02  -4.78037000e-02  -7.45707452e-02]\n"
     ]
    }
   ],
   "source": [
    "# Print the distributed representation of a word\n",
    "plot_vec = new_model['plot']\n",
    "print len(plot_vec)\n",
    "print plot_vec"
   ]
  },
  {
   "cell_type": "code",
   "execution_count": null,
   "metadata": {
    "collapsed": true
   },
   "outputs": [],
   "source": []
  }
 ],
 "metadata": {
  "kernelspec": {
   "display_name": "Python 2",
   "language": "python",
   "name": "python2"
  },
  "language_info": {
   "codemirror_mode": {
    "name": "ipython",
    "version": 2
   },
   "file_extension": ".py",
   "mimetype": "text/x-python",
   "name": "python",
   "nbconvert_exporter": "python",
   "pygments_lexer": "ipython2",
   "version": "2.7.11"
  }
 },
 "nbformat": 4,
 "nbformat_minor": 0
}
