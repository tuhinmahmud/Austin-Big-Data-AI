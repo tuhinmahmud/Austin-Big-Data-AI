{
 "cells": [
  {
   "cell_type": "markdown",
   "metadata": {
    "slideshow": {
     "slide_type": "subslide"
    }
   },
   "source": [
    "Notebook: https://github.com/nataliedurgin/similar-questions"
   ]
  },
  {
   "cell_type": "markdown",
   "metadata": {
    "slideshow": {
     "slide_type": "slide"
    }
   },
   "source": [
    "\n",
    "# Grouping Similar Questions\n",
    "\n",
    "#### Spiceworks Data Science\n",
    "\n",
    "\n",
    "##### Natalie Durgin\n",
    "\n"
   ]
  },
  {
   "cell_type": "markdown",
   "metadata": {
    "slideshow": {
     "slide_type": "subslide"
    }
   },
   "source": [
    "## Community Question Answering"
   ]
  },
  {
   "cell_type": "markdown",
   "metadata": {
    "slideshow": {
     "slide_type": "subslide"
    }
   },
   "source": [
    "#### Example Document 1\n",
    "\n",
    "- **URL**: https://community.spiceworks.com/topic/328118\n",
    "- **Subject**: need to unlock a password protected Excel 2010 workbook\n",
    "- **Body**: I have a user who had forgotten the password for an Excel 2010 file.  She cannot open it.  I tried changing the name to a zip file and opening the workbook file with an xml editor, but I can't get a readable format to come up so I can see the line of text with the password (so I can delete it).  What I'm getting is this gobbledy-gook: ºʝZܡ M/ؽ(+蝤¤7"
   ]
  },
  {
   "cell_type": "markdown",
   "metadata": {
    "slideshow": {
     "slide_type": "subslide"
    }
   },
   "source": [
    "#### Example Document 2\n",
    "\n",
    "- **URL**: https://community.spiceworks.com/topic/1766186\n",
    "- **Subject**: Password protected Excel 2016 spreadsheet---user forgot password!\n",
    "- **Body**: Face palm time.  A user has forgotten their password to an Excel 2016 spreadsheet. Anybody have any slick tool that will at least let them open in read-only mode?  Something to bust through the password would be excellent."
   ]
  },
  {
   "cell_type": "markdown",
   "metadata": {
    "slideshow": {
     "slide_type": "subslide"
    }
   },
   "source": [
    "#### Example Document 3\n",
    "\n",
    "- **URL**: https://community.spiceworks.com/topic/1984626\n",
    "- **Subject**: How secure are password protected Excel files?\n",
    "- **Body**: Once in a while if we need to send credentials to a third party we will use password protected Excel files sent via secure email (third party service where they have to login to see the email). I'm curious if the Excel file is secure enough by itself? Based on this info it looks like the default for Excel 2016 will be AES 256, which should be effectively secure at least against a brute force attack. \\__url\\__ \"Lets you configure the CNG cipher algorithm that is used. The default is AES.\" \" Lets you configure the number of bits to use when you create the cipher key. The default is 256 bits.\""
   ]
  },
  {
   "cell_type": "markdown",
   "metadata": {
    "slideshow": {
     "slide_type": "subslide"
    }
   },
   "source": [
    "##### 2017 Survey\n",
    "<a href= \"https://arxiv.org/abs/1705.04009\">A survey of Community Question Answering </a>\n",
    "\n",
    "##### Main Reference\n",
    "<a href= \"http://www.aclweb.org/anthology/S17-2051\"> SimBow at SemEval-2017 Task 3: Soft-Cosine Semantic Similarity between Questions for Community Question Answering </a>\n",
    "\n",
    "##### Gensim Softcosine \n",
    "https://github.com/RaRe-Technologies/gensim/blob/develop/docs/notebooks/soft_cosine_tutorial.ipynb"
   ]
  },
  {
   "cell_type": "markdown",
   "metadata": {
    "slideshow": {
     "slide_type": "slide"
    }
   },
   "source": [
    "# Preprocessing"
   ]
  },
  {
   "cell_type": "markdown",
   "metadata": {
    "slideshow": {
     "slide_type": "subslide"
    }
   },
   "source": [
    "**Word**, **Term**, **Token** := Collection of characters \n",
    "\n",
    "**Document** := Collection of words\n",
    "\n",
    "**Corpus** := Collection of documents\n",
    "\n",
    "**Vocabulary** := Collection of distinct terms that appear in a corpus\n",
    "\n",
    "Allowable collections depend upon preprocessing choices"
   ]
  },
  {
   "cell_type": "markdown",
   "metadata": {
    "slideshow": {
     "slide_type": "subslide"
    }
   },
   "source": [
    "## Preprocessing the Example Documents\n",
    "\n",
    "We choose to concatenate subject and body "
   ]
  },
  {
   "cell_type": "code",
   "execution_count": 18,
   "metadata": {
    "ExecuteTime": {
     "end_time": "2018-06-13T21:05:35.017235Z",
     "start_time": "2018-06-13T21:05:35.006662Z"
    },
    "slideshow": {
     "slide_type": "fragment"
    }
   },
   "outputs": [
    {
     "data": {
      "text/plain": [
       "'need to unlock a password protected Excel 2010 workbook <p>I have a user who had forgotten the password for an Excel 2010 file.&nbsp; She cannot open it.&nbsp; I tried changing the name to a zip file and opening the workbook file with an xml editor, but I can&#39;t get a readable format to come up so I can see the line of text with the password (so I can delete it).&nbsp; What I&#39;m getting is this gobbledy-gook:</p><p>\\xc2\\xba\\xca\\x9d\\xc2\\x99Z\\xdc\\xa1 \\xc2\\x84M/\\xd8\\xbd(+\\xe8\\x9d\\xa4\\xc2\\xa47</p>'"
      ]
     },
     "execution_count": 18,
     "metadata": {},
     "output_type": "execute_result"
    }
   ],
   "source": [
    "doc1 = \"\"\"need to unlock a password protected Excel 2010 workbook <p>I have a user who had forgotten the password for an Excel 2010 file.&nbsp; She cannot open it.&nbsp; I tried changing the name to a zip file and opening the workbook file with an xml editor, but I can&#39;t get a readable format to come up so I can see the line of text with the password (so I can delete it).&nbsp; What I&#39;m getting is this gobbledy-gook:</p><p>ºʝZܡ M/ؽ(+蝤¤7</p>\"\"\"\n",
    "doc2 = \"\"\"Password protected Excel 2016 spreadsheet---user forgot password! <p>Face palm time.  A user has forgotten their password to an Excel 2016 spreadsheet.<br><br>Anybody have any slick tool that will at least let them open in read-only mode?  Something to bust through the password would be excellent.</p>\"\"\"\n",
    "doc3 = \"\"\"How secure are password protected Excel files? <p>Once in a while if we need to send credentials to a third party we will use password protected Excel files sent via secure email (third party service where they have to login to see the email).<br><br></p><div>I'm curious if the Excel file is secure enough by itself? Based on this info it looks like the default for Excel 2016 will be AES 256, which should be effectively secure at least against a brute force attack.<div><a href=\"https://technet.microsoft.com/en-us/library/cc179125%28v=office.16%29.aspx?f=255&amp;MSPPError=-2147217396\">https://technet.microsoft.com/en-us/library/cc179125%28v=office.16%29.aspx?f=255&amp;MSPPError=-2147...</a><br></div><div><ul><li><i>\"Lets you configure the CNG cipher algorithm that is used. </i><b><i>The default is AES</i></b><i>.\"</i></li><li><i>\"Lets you configure the number of bits to use when you create the cipher key. </i><b><i>The default is 256 bits</i></b><i>.\"</i></li></ul></div> </div>\"\"\"\n",
    "# Target Corpus\n",
    "docs = [doc1, doc2, doc3]\n",
    "doc1"
   ]
  },
  {
   "cell_type": "markdown",
   "metadata": {
    "slideshow": {
     "slide_type": "subslide"
    }
   },
   "source": [
    "- Do you keep punctuation?\n",
    "- Do you preserve letter case?\n",
    "- Do you remove stopwords? \n",
    "- Do you impose minimum word frequencies? \n",
    "- Do you stem tokens?\n",
    "\n",
    "Results can be sensitive to these choices to varying extents. These choices will likely be different for each corpus and application. "
   ]
  },
  {
   "cell_type": "markdown",
   "metadata": {
    "slideshow": {
     "slide_type": "subslide"
    }
   },
   "source": [
    "## Gensim Default Preprocessing"
   ]
  },
  {
   "cell_type": "code",
   "execution_count": 19,
   "metadata": {
    "ExecuteTime": {
     "end_time": "2018-06-13T21:05:35.031868Z",
     "start_time": "2018-06-13T21:05:35.021865Z"
    },
    "code_folding": [
     5
    ],
    "slideshow": {
     "slide_type": "fragment"
    }
   },
   "outputs": [],
   "source": [
    "import os\n",
    "import gensim\n",
    "DATA_DIR = 'data'\n",
    "\n",
    "# Helper IO Function\n",
    "def list2txt(doc_list, filename):\n",
    "    filepath = os.path.join(DATA_DIR, filename)\n",
    "    outfile = open(filepath, 'w')\n",
    "    outfile.write(\"\\n\".join(doc_list))\n",
    "    return filepath\n",
    "\n",
    "default_target_corpus = gensim.corpora.TextCorpus(list2txt(docs, 'raw.txt'))"
   ]
  },
  {
   "cell_type": "code",
   "execution_count": 20,
   "metadata": {
    "ExecuteTime": {
     "end_time": "2018-06-13T21:05:35.049152Z",
     "start_time": "2018-06-13T21:05:35.036135Z"
    },
    "scrolled": true,
    "slideshow": {
     "slide_type": "subslide"
    }
   },
   "outputs": [
    {
     "data": {
      "text/plain": [
       "{0: u'changing',\n",
       " 1: u'come',\n",
       " 2: u'delete',\n",
       " 3: u'editor',\n",
       " 4: u'excel',\n",
       " 5: u'file',\n",
       " 6: u'forgotten',\n",
       " 7: u'format',\n",
       " 8: u'getting',\n",
       " 9: u'gobbledy',\n",
       " 10: u'gook',\n",
       " 11: u'line',\n",
       " 12: u'nbsp',\n",
       " 13: u'need',\n",
       " 14: u'open',\n",
       " 15: u'opening',\n",
       " 16: u'password',\n",
       " 17: u'protected',\n",
       " 18: u'readable',\n",
       " 19: u'text',\n",
       " 20: u'tried',\n",
       " 21: u'unlock',\n",
       " 22: u'user',\n",
       " 23: u'workbook',\n",
       " 24: u'xml',\n",
       " 25: u'zip',\n",
       " 26: u'anybody',\n",
       " 27: u'bust',\n",
       " 28: u'excellent',\n",
       " 29: u'face',\n",
       " 30: u'forgot',\n",
       " 31: u'let',\n",
       " 32: u'mode',\n",
       " 33: u'palm',\n",
       " 34: u'read',\n",
       " 35: u'slick',\n",
       " 36: u'spreadsheet',\n",
       " 37: u'time',\n",
       " 38: u'tool',\n",
       " 39: u'aes',\n",
       " 40: u'algorithm',\n",
       " 41: u'amp',\n",
       " 42: u'aspx',\n",
       " 43: u'attack',\n",
       " 44: u'based',\n",
       " 45: u'bits',\n",
       " 46: u'brute',\n",
       " 47: u'cipher',\n",
       " 48: u'cng',\n",
       " 49: u'com',\n",
       " 50: u'configure',\n",
       " 51: u'create',\n",
       " 52: u'credentials',\n",
       " 53: u'curious',\n",
       " 54: u'default',\n",
       " 55: u'div',\n",
       " 56: u'effectively',\n",
       " 57: u'email',\n",
       " 58: u'files',\n",
       " 59: u'force',\n",
       " 60: u'href',\n",
       " 61: u'https',\n",
       " 62: u'info',\n",
       " 63: u'key',\n",
       " 64: u'lets',\n",
       " 65: u'library',\n",
       " 66: u'like',\n",
       " 67: u'login',\n",
       " 68: u'looks',\n",
       " 69: u'microsoft',\n",
       " 70: u'mspperror',\n",
       " 71: u'number',\n",
       " 72: u'office',\n",
       " 73: u'party',\n",
       " 74: u'secure',\n",
       " 75: u'send',\n",
       " 76: u'sent',\n",
       " 77: u'service',\n",
       " 78: u'technet',\n",
       " 79: u'use'}"
      ]
     },
     "execution_count": 20,
     "metadata": {},
     "output_type": "execute_result"
    }
   ],
   "source": [
    "default_target_corpus.dictionary.items()\n",
    "default_target_corpus.dictionary.id2token"
   ]
  },
  {
   "cell_type": "markdown",
   "metadata": {
    "slideshow": {
     "slide_type": "subslide"
    }
   },
   "source": [
    "Default preprocessing gotchas:\n",
    "- Filters out words shorter than three characters (e.g. IT, MS, IP, 64, GB, PC, sw etc.)\n",
    "- Aggressive stopword list? \n",
    "- No numbers? (2010, v0.1 etc.)"
   ]
  },
  {
   "cell_type": "markdown",
   "metadata": {
    "slideshow": {
     "slide_type": "subslide"
    }
   },
   "source": [
    "## Custom Preprocessing"
   ]
  },
  {
   "cell_type": "code",
   "execution_count": 21,
   "metadata": {
    "ExecuteTime": {
     "end_time": "2018-06-13T21:05:35.079193Z",
     "start_time": "2018-06-13T21:05:35.053298Z"
    },
    "code_folding": [
     7,
     16,
     24,
     27,
     34,
     53
    ],
    "hide_input": false,
    "slideshow": {
     "slide_type": "subslide"
    }
   },
   "outputs": [],
   "source": [
    "import re # python regular expression library\n",
    "import bs4 # python html parsing library \"beautiful soup\" \n",
    "\n",
    "# Sample custom preprocessing sequence\n",
    "DELIMITER_PATTERN = u'[!?,;:\\t\\\\\\\\\"\\\\(\\\\)\\\\\\'\\u2026\\u201c\\u2013\\u2019\\u2026\\n]|\\\\s\\\\-\\\\s|\\.\\s'\n",
    "TOKEN_PATTERN = r'(?u)[\\_][a-zA-Z0-9\\_]*|[a-zA-Z0-9][a-zA-Z0-9.]*\\b'\n",
    "\n",
    "def html_parser(html):\n",
    "    try:\n",
    "        html = re.sub(r\"<img.*?>\", \" __img__ \", html)\n",
    "        html = re.sub(r\"<a .*?/a>\", \" __url__ \", html)\n",
    "        soup = bs4.BeautifulSoup(html, \"html.parser\")\n",
    "        for br in soup.find_all(\"br\"):\n",
    "            br.replace_with(\"\\n\")\n",
    "        return soup.get_text()\n",
    "    except:  \n",
    "        return ''\n",
    "    \n",
    "def split_sentences(doc):\n",
    "    try:\n",
    "        delimiters = re.compile(DELIMITER_PATTERN)\n",
    "        sentences = delimiters.split(doc)\n",
    "        return sentences\n",
    "    except:\n",
    "        return []\n",
    "\n",
    "def tokenizer(sentence, token_pattern=TOKEN_PATTERN, lowercase=True):\n",
    "    try:\n",
    "        token_pattern = re.compile(token_pattern)\n",
    "        if lowercase:\n",
    "            sentence = sentence.lower()\n",
    "        return token_pattern.findall(sentence)\n",
    "\n",
    "    except:\n",
    "        return []\n",
    "\n",
    "def clean_text(html, lowercase=True):\n",
    "    text = html_parser(html)\n",
    "    if lowercase:\n",
    "        text = text.lower()\n",
    "\n",
    "    sents = split_sentences(text)\n",
    "    sents = [' '.join(tokenizer(sent, lowercase=lowercase)) for sent in sents]\n",
    "    try:\n",
    "        sents = map(lambda x: x.strip(), sents)\n",
    "    except:\n",
    "        pass\n",
    "    try:\n",
    "        sents = [sent for sent in sents if len(sent) > 0]\n",
    "    except:\n",
    "        pass\n",
    "    return ' '.join(sents)"
   ]
  },
  {
   "cell_type": "code",
   "execution_count": 22,
   "metadata": {
    "ExecuteTime": {
     "end_time": "2018-06-13T21:05:35.091162Z",
     "start_time": "2018-06-13T21:05:35.083019Z"
    },
    "slideshow": {
     "slide_type": "subslide"
    }
   },
   "outputs": [
    {
     "data": {
      "text/plain": [
       "'How secure are password protected Excel files? <p>Once in a while if we need to send credentials to a third party we will use password protected Excel files sent via secure email (third party service where they have to login to see the email).<br><br></p><div>I\\'m curious if the Excel file is secure enough by itself? Based on this info it looks like the default for Excel 2016 will be AES 256, which should be effectively secure at least against a brute force attack.<div><a href=\"https://technet.microsoft.com/en-us/library/cc179125%28v=office.16%29.aspx?f=255&amp;MSPPError=-2147217396\">https://technet.microsoft.com/en-us/library/cc179125%28v=office.16%29.aspx?f=255&amp;MSPPError=-2147...</a><br></div><div><ul><li><i>\"Lets you configure the CNG cipher algorithm that is used. </i><b><i>The default is AES</i></b><i>.\"</i></li><li><i>\"Lets you configure the number of bits to use when you create the cipher key. </i><b><i>The default is 256 bits</i></b><i>.\"</i></li></ul></div>\\xc2\\xa0</div>'"
      ]
     },
     "execution_count": 22,
     "metadata": {},
     "output_type": "execute_result"
    }
   ],
   "source": [
    "doc3"
   ]
  },
  {
   "cell_type": "code",
   "execution_count": 23,
   "metadata": {
    "ExecuteTime": {
     "end_time": "2018-06-13T21:05:35.130769Z",
     "start_time": "2018-06-13T21:05:35.095867Z"
    },
    "slideshow": {
     "slide_type": "fragment"
    }
   },
   "outputs": [
    {
     "data": {
      "text/plain": [
       "u'how secure are password protected excel files once in a while if we need to send credentials to a third party we will use password protected excel files sent via secure email third party service where they have to login to see the email i m curious if the excel file is secure enough by itself based on this info it looks like the default for excel 2016 will be aes 256 which should be effectively secure at least against a brute force attack __url__ lets you configure the cng cipher algorithm that is used the default is aes lets you configure the number of bits to use when you create the cipher key the default is 256 bits'"
      ]
     },
     "execution_count": 23,
     "metadata": {},
     "output_type": "execute_result"
    }
   ],
   "source": [
    "clean_text(doc3)"
   ]
  },
  {
   "cell_type": "code",
   "execution_count": 24,
   "metadata": {
    "ExecuteTime": {
     "end_time": "2018-06-13T21:05:35.176279Z",
     "start_time": "2018-06-13T21:05:35.135120Z"
    },
    "slideshow": {
     "slide_type": "subslide"
    }
   },
   "outputs": [],
   "source": [
    "# Subclass gensim TextCorpus object to apply custom preprocesing\n",
    "# Preprocessing functions need to be efficient if performance is a concern!\n",
    "class CustomTextCorpus(gensim.corpora.TextCorpus):\n",
    "  def get_texts(self):\n",
    "    for doc in self.getstream():\n",
    "        yield [word for word in clean_text(doc).split()]\n",
    "  def __len__(self): \n",
    "    self.length = sum(1 for _ in self.get_texts())\n",
    "    return self.length\n",
    "\n",
    "preprocessed_docs = [clean_text(doc) for doc in docs]\n",
    "custom_target_corpus = CustomTextCorpus(list2txt(preprocessed_docs, 'preprocessed.txt'))"
   ]
  },
  {
   "cell_type": "code",
   "execution_count": 25,
   "metadata": {
    "ExecuteTime": {
     "end_time": "2018-06-13T21:05:35.196344Z",
     "start_time": "2018-06-13T21:05:35.179492Z"
    },
    "slideshow": {
     "slide_type": "subslide"
    }
   },
   "outputs": [
    {
     "data": {
      "text/plain": [
       "{0: u'2010',\n",
       " 1: u'7',\n",
       " 2: u'a',\n",
       " 3: u'an',\n",
       " 4: u'and',\n",
       " 5: u'but',\n",
       " 6: u'can',\n",
       " 7: u'cannot',\n",
       " 8: u'changing',\n",
       " 9: u'come',\n",
       " 10: u'delete',\n",
       " 11: u'editor',\n",
       " 12: u'excel',\n",
       " 13: u'file',\n",
       " 14: u'for',\n",
       " 15: u'forgotten',\n",
       " 16: u'format',\n",
       " 17: u'get',\n",
       " 18: u'getting',\n",
       " 19: u'gobbledy',\n",
       " 20: u'gook',\n",
       " 21: u'had',\n",
       " 22: u'have',\n",
       " 23: u'i',\n",
       " 24: u'is',\n",
       " 25: u'it',\n",
       " 26: u'line',\n",
       " 27: u'm',\n",
       " 28: u'name',\n",
       " 29: u'need',\n",
       " 30: u'of',\n",
       " 31: u'open',\n",
       " 32: u'opening',\n",
       " 33: u'password',\n",
       " 34: u'protected',\n",
       " 35: u'readable',\n",
       " 36: u'see',\n",
       " 37: u'she',\n",
       " 38: u'so',\n",
       " 39: u't',\n",
       " 40: u'text',\n",
       " 41: u'the',\n",
       " 42: u'this',\n",
       " 43: u'to',\n",
       " 44: u'tried',\n",
       " 45: u'unlock',\n",
       " 46: u'up',\n",
       " 47: u'user',\n",
       " 48: u'what',\n",
       " 49: u'who',\n",
       " 50: u'with',\n",
       " 51: u'workbook',\n",
       " 52: u'xml',\n",
       " 53: u'zip',\n",
       " 54: u'2016',\n",
       " 55: u'any',\n",
       " 56: u'anybody',\n",
       " 57: u'at',\n",
       " 58: u'be',\n",
       " 59: u'bust',\n",
       " 60: u'excellent',\n",
       " 61: u'face',\n",
       " 62: u'forgot',\n",
       " 63: u'has',\n",
       " 64: u'in',\n",
       " 65: u'least',\n",
       " 66: u'let',\n",
       " 67: u'mode',\n",
       " 68: u'only',\n",
       " 69: u'palm',\n",
       " 70: u'read',\n",
       " 71: u'slick',\n",
       " 72: u'something',\n",
       " 73: u'spreadsheet',\n",
       " 74: u'that',\n",
       " 75: u'their',\n",
       " 76: u'them',\n",
       " 77: u'through',\n",
       " 78: u'time',\n",
       " 79: u'tool',\n",
       " 80: u'will',\n",
       " 81: u'would',\n",
       " 82: u'256',\n",
       " 83: u'__url__',\n",
       " 84: u'aes',\n",
       " 85: u'against',\n",
       " 86: u'algorithm',\n",
       " 87: u'are',\n",
       " 88: u'attack',\n",
       " 89: u'based',\n",
       " 90: u'bits',\n",
       " 91: u'brute',\n",
       " 92: u'by',\n",
       " 93: u'cipher',\n",
       " 94: u'cng',\n",
       " 95: u'configure',\n",
       " 96: u'create',\n",
       " 97: u'credentials',\n",
       " 98: u'curious',\n",
       " 99: u'default',\n",
       " 100: u'effectively',\n",
       " 101: u'email',\n",
       " 102: u'enough',\n",
       " 103: u'files',\n",
       " 104: u'force',\n",
       " 105: u'how',\n",
       " 106: u'if',\n",
       " 107: u'info',\n",
       " 108: u'itself',\n",
       " 109: u'key',\n",
       " 110: u'lets',\n",
       " 111: u'like',\n",
       " 112: u'login',\n",
       " 113: u'looks',\n",
       " 114: u'number',\n",
       " 115: u'on',\n",
       " 116: u'once',\n",
       " 117: u'party',\n",
       " 118: u'secure',\n",
       " 119: u'send',\n",
       " 120: u'sent',\n",
       " 121: u'service',\n",
       " 122: u'should',\n",
       " 123: u'they',\n",
       " 124: u'third',\n",
       " 125: u'use',\n",
       " 126: u'used',\n",
       " 127: u'via',\n",
       " 128: u'we',\n",
       " 129: u'when',\n",
       " 130: u'where',\n",
       " 131: u'which',\n",
       " 132: u'while',\n",
       " 133: u'you'}"
      ]
     },
     "execution_count": 25,
     "metadata": {},
     "output_type": "execute_result"
    }
   ],
   "source": [
    "custom_target_corpus.dictionary.items()\n",
    "custom_target_corpus.dictionary.id2token  "
   ]
  },
  {
   "cell_type": "markdown",
   "metadata": {
    "heading_collapsed": true,
    "slideshow": {
     "slide_type": "slide"
    }
   },
   "source": [
    "# Documents and their Vector Space Representations"
   ]
  },
  {
   "cell_type": "markdown",
   "metadata": {
    "slideshow": {
     "slide_type": "subslide"
    }
   },
   "source": [
    "## Word Count Vectors"
   ]
  },
  {
   "cell_type": "markdown",
   "metadata": {
    "slideshow": {
     "slide_type": "fragment"
    }
   },
   "source": [
    "A gensim corpus object is an iterable of list of (int, num)"
   ]
  },
  {
   "cell_type": "code",
   "execution_count": 26,
   "metadata": {
    "ExecuteTime": {
     "end_time": "2018-06-13T21:05:35.214935Z",
     "start_time": "2018-06-13T21:05:35.199411Z"
    },
    "slideshow": {
     "slide_type": "fragment"
    }
   },
   "outputs": [
    {
     "data": {
      "text/plain": [
       "[(4, 2),\n",
       " (6, 1),\n",
       " (14, 1),\n",
       " (16, 4),\n",
       " (17, 1),\n",
       " (22, 2),\n",
       " (26, 1),\n",
       " (27, 1),\n",
       " (28, 1),\n",
       " (29, 1),\n",
       " (30, 1),\n",
       " (31, 1),\n",
       " (32, 1),\n",
       " (33, 1),\n",
       " (34, 1),\n",
       " (35, 1),\n",
       " (36, 2),\n",
       " (37, 1),\n",
       " (38, 1)]"
      ]
     },
     "execution_count": 26,
     "metadata": {},
     "output_type": "execute_result"
    }
   ],
   "source": [
    "TARGET_CORPUS = default_target_corpus\n",
    "doc_vectors = [word_count_vector for word_count_vector in TARGET_CORPUS]\n",
    "doc_vector = doc_vectors[1]\n",
    "doc_vector"
   ]
  },
  {
   "cell_type": "code",
   "execution_count": 27,
   "metadata": {
    "ExecuteTime": {
     "end_time": "2018-06-13T21:05:35.225520Z",
     "start_time": "2018-06-13T21:05:35.219637Z"
    },
    "slideshow": {
     "slide_type": "skip"
    }
   },
   "outputs": [],
   "source": [
    "# Make Pandas dataframe preview font larger\n",
    "# Set CSS properties for th elements in dataframe\n",
    "# Set CSS properties for td elements in dataframe\n",
    "# Set table display styles\n",
    "styles = [\n",
    "  dict(selector=\"th\", props=[('font-size', '30px')]),\n",
    "  dict(selector=\"td\", props=[('font-size','30px')])\n",
    "  ]"
   ]
  },
  {
   "cell_type": "code",
   "execution_count": 28,
   "metadata": {
    "ExecuteTime": {
     "end_time": "2018-06-13T21:05:35.248709Z",
     "start_time": "2018-06-13T21:05:35.230361Z"
    },
    "slideshow": {
     "slide_type": "subslide"
    }
   },
   "outputs": [
    {
     "data": {
      "text/html": [
       "<style  type=\"text/css\" >\n",
       "    #T_83fcd2eb_6f4d_11e8_8bcc_9801a791dcdf th {\n",
       "          font-size: 30px;\n",
       "    }    #T_83fcd2eb_6f4d_11e8_8bcc_9801a791dcdf td {\n",
       "          font-size: 30px;\n",
       "    }</style>  \n",
       "<table id=\"T_83fcd2eb_6f4d_11e8_8bcc_9801a791dcdf\" > \n",
       "<thead>    <tr> \n",
       "        <th class=\"blank level0\" ></th> \n",
       "        <th class=\"col_heading level0 col0\" >vocab_index</th> \n",
       "        <th class=\"col_heading level0 col1\" >word_count</th> \n",
       "        <th class=\"col_heading level0 col2\" >token</th> \n",
       "    </tr></thead> \n",
       "<tbody>    <tr> \n",
       "        <th id=\"T_83fcd2eb_6f4d_11e8_8bcc_9801a791dcdflevel0_row0\" class=\"row_heading level0 row0\" >0</th> \n",
       "        <td id=\"T_83fcd2eb_6f4d_11e8_8bcc_9801a791dcdfrow0_col0\" class=\"data row0 col0\" >4</td> \n",
       "        <td id=\"T_83fcd2eb_6f4d_11e8_8bcc_9801a791dcdfrow0_col1\" class=\"data row0 col1\" >2</td> \n",
       "        <td id=\"T_83fcd2eb_6f4d_11e8_8bcc_9801a791dcdfrow0_col2\" class=\"data row0 col2\" >excel</td> \n",
       "    </tr>    <tr> \n",
       "        <th id=\"T_83fcd2eb_6f4d_11e8_8bcc_9801a791dcdflevel0_row1\" class=\"row_heading level0 row1\" >1</th> \n",
       "        <td id=\"T_83fcd2eb_6f4d_11e8_8bcc_9801a791dcdfrow1_col0\" class=\"data row1 col0\" >6</td> \n",
       "        <td id=\"T_83fcd2eb_6f4d_11e8_8bcc_9801a791dcdfrow1_col1\" class=\"data row1 col1\" >1</td> \n",
       "        <td id=\"T_83fcd2eb_6f4d_11e8_8bcc_9801a791dcdfrow1_col2\" class=\"data row1 col2\" >forgotten</td> \n",
       "    </tr>    <tr> \n",
       "        <th id=\"T_83fcd2eb_6f4d_11e8_8bcc_9801a791dcdflevel0_row2\" class=\"row_heading level0 row2\" >2</th> \n",
       "        <td id=\"T_83fcd2eb_6f4d_11e8_8bcc_9801a791dcdfrow2_col0\" class=\"data row2 col0\" >14</td> \n",
       "        <td id=\"T_83fcd2eb_6f4d_11e8_8bcc_9801a791dcdfrow2_col1\" class=\"data row2 col1\" >1</td> \n",
       "        <td id=\"T_83fcd2eb_6f4d_11e8_8bcc_9801a791dcdfrow2_col2\" class=\"data row2 col2\" >open</td> \n",
       "    </tr>    <tr> \n",
       "        <th id=\"T_83fcd2eb_6f4d_11e8_8bcc_9801a791dcdflevel0_row3\" class=\"row_heading level0 row3\" >3</th> \n",
       "        <td id=\"T_83fcd2eb_6f4d_11e8_8bcc_9801a791dcdfrow3_col0\" class=\"data row3 col0\" >16</td> \n",
       "        <td id=\"T_83fcd2eb_6f4d_11e8_8bcc_9801a791dcdfrow3_col1\" class=\"data row3 col1\" >4</td> \n",
       "        <td id=\"T_83fcd2eb_6f4d_11e8_8bcc_9801a791dcdfrow3_col2\" class=\"data row3 col2\" >password</td> \n",
       "    </tr>    <tr> \n",
       "        <th id=\"T_83fcd2eb_6f4d_11e8_8bcc_9801a791dcdflevel0_row4\" class=\"row_heading level0 row4\" >4</th> \n",
       "        <td id=\"T_83fcd2eb_6f4d_11e8_8bcc_9801a791dcdfrow4_col0\" class=\"data row4 col0\" >17</td> \n",
       "        <td id=\"T_83fcd2eb_6f4d_11e8_8bcc_9801a791dcdfrow4_col1\" class=\"data row4 col1\" >1</td> \n",
       "        <td id=\"T_83fcd2eb_6f4d_11e8_8bcc_9801a791dcdfrow4_col2\" class=\"data row4 col2\" >protected</td> \n",
       "    </tr>    <tr> \n",
       "        <th id=\"T_83fcd2eb_6f4d_11e8_8bcc_9801a791dcdflevel0_row5\" class=\"row_heading level0 row5\" >5</th> \n",
       "        <td id=\"T_83fcd2eb_6f4d_11e8_8bcc_9801a791dcdfrow5_col0\" class=\"data row5 col0\" >22</td> \n",
       "        <td id=\"T_83fcd2eb_6f4d_11e8_8bcc_9801a791dcdfrow5_col1\" class=\"data row5 col1\" >2</td> \n",
       "        <td id=\"T_83fcd2eb_6f4d_11e8_8bcc_9801a791dcdfrow5_col2\" class=\"data row5 col2\" >user</td> \n",
       "    </tr>    <tr> \n",
       "        <th id=\"T_83fcd2eb_6f4d_11e8_8bcc_9801a791dcdflevel0_row6\" class=\"row_heading level0 row6\" >6</th> \n",
       "        <td id=\"T_83fcd2eb_6f4d_11e8_8bcc_9801a791dcdfrow6_col0\" class=\"data row6 col0\" >26</td> \n",
       "        <td id=\"T_83fcd2eb_6f4d_11e8_8bcc_9801a791dcdfrow6_col1\" class=\"data row6 col1\" >1</td> \n",
       "        <td id=\"T_83fcd2eb_6f4d_11e8_8bcc_9801a791dcdfrow6_col2\" class=\"data row6 col2\" >anybody</td> \n",
       "    </tr>    <tr> \n",
       "        <th id=\"T_83fcd2eb_6f4d_11e8_8bcc_9801a791dcdflevel0_row7\" class=\"row_heading level0 row7\" >7</th> \n",
       "        <td id=\"T_83fcd2eb_6f4d_11e8_8bcc_9801a791dcdfrow7_col0\" class=\"data row7 col0\" >27</td> \n",
       "        <td id=\"T_83fcd2eb_6f4d_11e8_8bcc_9801a791dcdfrow7_col1\" class=\"data row7 col1\" >1</td> \n",
       "        <td id=\"T_83fcd2eb_6f4d_11e8_8bcc_9801a791dcdfrow7_col2\" class=\"data row7 col2\" >bust</td> \n",
       "    </tr>    <tr> \n",
       "        <th id=\"T_83fcd2eb_6f4d_11e8_8bcc_9801a791dcdflevel0_row8\" class=\"row_heading level0 row8\" >8</th> \n",
       "        <td id=\"T_83fcd2eb_6f4d_11e8_8bcc_9801a791dcdfrow8_col0\" class=\"data row8 col0\" >28</td> \n",
       "        <td id=\"T_83fcd2eb_6f4d_11e8_8bcc_9801a791dcdfrow8_col1\" class=\"data row8 col1\" >1</td> \n",
       "        <td id=\"T_83fcd2eb_6f4d_11e8_8bcc_9801a791dcdfrow8_col2\" class=\"data row8 col2\" >excellent</td> \n",
       "    </tr>    <tr> \n",
       "        <th id=\"T_83fcd2eb_6f4d_11e8_8bcc_9801a791dcdflevel0_row9\" class=\"row_heading level0 row9\" >9</th> \n",
       "        <td id=\"T_83fcd2eb_6f4d_11e8_8bcc_9801a791dcdfrow9_col0\" class=\"data row9 col0\" >29</td> \n",
       "        <td id=\"T_83fcd2eb_6f4d_11e8_8bcc_9801a791dcdfrow9_col1\" class=\"data row9 col1\" >1</td> \n",
       "        <td id=\"T_83fcd2eb_6f4d_11e8_8bcc_9801a791dcdfrow9_col2\" class=\"data row9 col2\" >face</td> \n",
       "    </tr>    <tr> \n",
       "        <th id=\"T_83fcd2eb_6f4d_11e8_8bcc_9801a791dcdflevel0_row10\" class=\"row_heading level0 row10\" >10</th> \n",
       "        <td id=\"T_83fcd2eb_6f4d_11e8_8bcc_9801a791dcdfrow10_col0\" class=\"data row10 col0\" >30</td> \n",
       "        <td id=\"T_83fcd2eb_6f4d_11e8_8bcc_9801a791dcdfrow10_col1\" class=\"data row10 col1\" >1</td> \n",
       "        <td id=\"T_83fcd2eb_6f4d_11e8_8bcc_9801a791dcdfrow10_col2\" class=\"data row10 col2\" >forgot</td> \n",
       "    </tr>    <tr> \n",
       "        <th id=\"T_83fcd2eb_6f4d_11e8_8bcc_9801a791dcdflevel0_row11\" class=\"row_heading level0 row11\" >11</th> \n",
       "        <td id=\"T_83fcd2eb_6f4d_11e8_8bcc_9801a791dcdfrow11_col0\" class=\"data row11 col0\" >31</td> \n",
       "        <td id=\"T_83fcd2eb_6f4d_11e8_8bcc_9801a791dcdfrow11_col1\" class=\"data row11 col1\" >1</td> \n",
       "        <td id=\"T_83fcd2eb_6f4d_11e8_8bcc_9801a791dcdfrow11_col2\" class=\"data row11 col2\" >let</td> \n",
       "    </tr>    <tr> \n",
       "        <th id=\"T_83fcd2eb_6f4d_11e8_8bcc_9801a791dcdflevel0_row12\" class=\"row_heading level0 row12\" >12</th> \n",
       "        <td id=\"T_83fcd2eb_6f4d_11e8_8bcc_9801a791dcdfrow12_col0\" class=\"data row12 col0\" >32</td> \n",
       "        <td id=\"T_83fcd2eb_6f4d_11e8_8bcc_9801a791dcdfrow12_col1\" class=\"data row12 col1\" >1</td> \n",
       "        <td id=\"T_83fcd2eb_6f4d_11e8_8bcc_9801a791dcdfrow12_col2\" class=\"data row12 col2\" >mode</td> \n",
       "    </tr>    <tr> \n",
       "        <th id=\"T_83fcd2eb_6f4d_11e8_8bcc_9801a791dcdflevel0_row13\" class=\"row_heading level0 row13\" >13</th> \n",
       "        <td id=\"T_83fcd2eb_6f4d_11e8_8bcc_9801a791dcdfrow13_col0\" class=\"data row13 col0\" >33</td> \n",
       "        <td id=\"T_83fcd2eb_6f4d_11e8_8bcc_9801a791dcdfrow13_col1\" class=\"data row13 col1\" >1</td> \n",
       "        <td id=\"T_83fcd2eb_6f4d_11e8_8bcc_9801a791dcdfrow13_col2\" class=\"data row13 col2\" >palm</td> \n",
       "    </tr>    <tr> \n",
       "        <th id=\"T_83fcd2eb_6f4d_11e8_8bcc_9801a791dcdflevel0_row14\" class=\"row_heading level0 row14\" >14</th> \n",
       "        <td id=\"T_83fcd2eb_6f4d_11e8_8bcc_9801a791dcdfrow14_col0\" class=\"data row14 col0\" >34</td> \n",
       "        <td id=\"T_83fcd2eb_6f4d_11e8_8bcc_9801a791dcdfrow14_col1\" class=\"data row14 col1\" >1</td> \n",
       "        <td id=\"T_83fcd2eb_6f4d_11e8_8bcc_9801a791dcdfrow14_col2\" class=\"data row14 col2\" >read</td> \n",
       "    </tr>    <tr> \n",
       "        <th id=\"T_83fcd2eb_6f4d_11e8_8bcc_9801a791dcdflevel0_row15\" class=\"row_heading level0 row15\" >15</th> \n",
       "        <td id=\"T_83fcd2eb_6f4d_11e8_8bcc_9801a791dcdfrow15_col0\" class=\"data row15 col0\" >35</td> \n",
       "        <td id=\"T_83fcd2eb_6f4d_11e8_8bcc_9801a791dcdfrow15_col1\" class=\"data row15 col1\" >1</td> \n",
       "        <td id=\"T_83fcd2eb_6f4d_11e8_8bcc_9801a791dcdfrow15_col2\" class=\"data row15 col2\" >slick</td> \n",
       "    </tr>    <tr> \n",
       "        <th id=\"T_83fcd2eb_6f4d_11e8_8bcc_9801a791dcdflevel0_row16\" class=\"row_heading level0 row16\" >16</th> \n",
       "        <td id=\"T_83fcd2eb_6f4d_11e8_8bcc_9801a791dcdfrow16_col0\" class=\"data row16 col0\" >36</td> \n",
       "        <td id=\"T_83fcd2eb_6f4d_11e8_8bcc_9801a791dcdfrow16_col1\" class=\"data row16 col1\" >2</td> \n",
       "        <td id=\"T_83fcd2eb_6f4d_11e8_8bcc_9801a791dcdfrow16_col2\" class=\"data row16 col2\" >spreadsheet</td> \n",
       "    </tr>    <tr> \n",
       "        <th id=\"T_83fcd2eb_6f4d_11e8_8bcc_9801a791dcdflevel0_row17\" class=\"row_heading level0 row17\" >17</th> \n",
       "        <td id=\"T_83fcd2eb_6f4d_11e8_8bcc_9801a791dcdfrow17_col0\" class=\"data row17 col0\" >37</td> \n",
       "        <td id=\"T_83fcd2eb_6f4d_11e8_8bcc_9801a791dcdfrow17_col1\" class=\"data row17 col1\" >1</td> \n",
       "        <td id=\"T_83fcd2eb_6f4d_11e8_8bcc_9801a791dcdfrow17_col2\" class=\"data row17 col2\" >time</td> \n",
       "    </tr>    <tr> \n",
       "        <th id=\"T_83fcd2eb_6f4d_11e8_8bcc_9801a791dcdflevel0_row18\" class=\"row_heading level0 row18\" >18</th> \n",
       "        <td id=\"T_83fcd2eb_6f4d_11e8_8bcc_9801a791dcdfrow18_col0\" class=\"data row18 col0\" >38</td> \n",
       "        <td id=\"T_83fcd2eb_6f4d_11e8_8bcc_9801a791dcdfrow18_col1\" class=\"data row18 col1\" >1</td> \n",
       "        <td id=\"T_83fcd2eb_6f4d_11e8_8bcc_9801a791dcdfrow18_col2\" class=\"data row18 col2\" >tool</td> \n",
       "    </tr></tbody> \n",
       "</table> "
      ],
      "text/plain": [
       "<pandas.io.formats.style.Styler at 0x148b43f10>"
      ]
     },
     "execution_count": 28,
     "metadata": {},
     "output_type": "execute_result"
    }
   ],
   "source": [
    "import pandas as pd\n",
    "pd.DataFrame([(k,v,TARGET_CORPUS.dictionary.id2token[k]) for k,v in doc_vector], \n",
    "             columns=['vocab_index', 'word_count', 'token']).style.set_table_styles(styles)"
   ]
  },
  {
   "cell_type": "markdown",
   "metadata": {
    "ExecuteTime": {
     "end_time": "2018-05-30T23:06:18.578766Z",
     "start_time": "2018-05-30T23:06:18.559949Z"
    },
    "slideshow": {
     "slide_type": "subslide"
    }
   },
   "source": [
    "## TF-IDF Vectors"
   ]
  },
  {
   "cell_type": "markdown",
   "metadata": {
    "slideshow": {
     "slide_type": "fragment"
    }
   },
   "source": [
    "TF-IDF = Term Frequency-Inverse Document Frequency \n",
    "\n",
    "https://en.wikipedia.org/wiki/Tf-idf\n",
    "\n",
    "Discount the frequency of terms common to many documents in the (training/target) corpus. "
   ]
  },
  {
   "cell_type": "code",
   "execution_count": 29,
   "metadata": {
    "ExecuteTime": {
     "end_time": "2018-06-13T21:05:35.265192Z",
     "start_time": "2018-06-13T21:05:35.252004Z"
    },
    "slideshow": {
     "slide_type": "subslide"
    }
   },
   "outputs": [
    {
     "data": {
      "text/plain": [
       "[(0, 0.18027306351311892),\n",
       " (1, 0.18027306351311892),\n",
       " (2, 0.18027306351311892),\n",
       " (3, 0.18027306351311892),\n",
       " (5, 0.1996002719256453),\n",
       " (6, 0.0665334239752151),\n",
       " (7, 0.18027306351311892),\n",
       " (8, 0.18027306351311892),\n",
       " (9, 0.18027306351311892),\n",
       " (10, 0.18027306351311892),\n",
       " (11, 0.18027306351311892),\n",
       " (12, 0.5408191905393568),\n",
       " (13, 0.0665334239752151),\n",
       " (14, 0.0665334239752151),\n",
       " (15, 0.18027306351311892),\n",
       " (18, 0.18027306351311892),\n",
       " (19, 0.18027306351311892),\n",
       " (20, 0.18027306351311892),\n",
       " (21, 0.18027306351311892),\n",
       " (22, 0.0665334239752151),\n",
       " (23, 0.36054612702623784),\n",
       " (24, 0.18027306351311892),\n",
       " (25, 0.18027306351311892)]"
      ]
     },
     "execution_count": 29,
     "metadata": {},
     "output_type": "execute_result"
    }
   ],
   "source": [
    "# IDF's coming from the small target corpus\n",
    "def get_target_tfidf(target_corpus):\n",
    "    return gensim.models.TfidfModel(target_corpus, dictionary=target_corpus.dictionary)[target_corpus]\n",
    "\n",
    "iter(get_target_tfidf(default_target_corpus)).next()"
   ]
  },
  {
   "cell_type": "code",
   "execution_count": 30,
   "metadata": {
    "ExecuteTime": {
     "end_time": "2018-06-13T21:05:35.278643Z",
     "start_time": "2018-06-13T21:05:35.270013Z"
    },
    "slideshow": {
     "slide_type": "skip"
    }
   },
   "outputs": [],
   "source": [
    "# Term mapping logic\n",
    "# Subclass the corpus transormation interface\n",
    "class MapTermIds(gensim.interfaces.TransformationABC):\n",
    "  def __init__(self, termid_map):\n",
    "      self.termid_map = termid_map\n",
    "\n",
    "  def __getitem__(self, bow):\n",
    "      is_corpus, bow = gensim.utils.is_corpus(bow)\n",
    "      if is_corpus:\n",
    "          return self._apply(bow)\n",
    "\n",
    "      vector = [(self.termid_map.get(termid), weight)\n",
    "                for termid, weight in bow if self.termid_map.get(termid)]\n",
    "      return vector"
   ]
  },
  {
   "cell_type": "code",
   "execution_count": 31,
   "metadata": {
    "ExecuteTime": {
     "end_time": "2018-06-13T21:05:35.294075Z",
     "start_time": "2018-06-13T21:05:35.282891Z"
    },
    "slideshow": {
     "slide_type": "skip"
    }
   },
   "outputs": [],
   "source": [
    "def create_compatible_termid_maps(target_dictionary, training_dictionary):\n",
    "    token_training_map = training_dictionary.token2id\n",
    "    target_training_map = {k: token_training_map.get(v) for k, v\n",
    "                       in target_dictionary.iteritems()}\n",
    "    missing_indices = [k for k, v in target_training_map.iteritems() if not v]\n",
    "    target_dictionary.filter_tokens(missing_indices)\n",
    "    \n",
    "    # Remove terms not found in the training dictionary\n",
    "    target_dictionary.compactify() \n",
    "\n",
    "    target_training_map = {k: token_training_map.get(v) for k, v\n",
    "                       in target_dictionary.iteritems()}\n",
    "    training_target_map = {v: k for k, v in target_training_map.iteritems()}\n",
    "    target_training_transform = MapTermIds(target_training_map)\n",
    "    training_target_transform = MapTermIds(training_target_map)\n",
    "\n",
    "    return target_dictionary, target_training_transform, training_target_transform"
   ]
  },
  {
   "cell_type": "code",
   "execution_count": 32,
   "metadata": {
    "ExecuteTime": {
     "end_time": "2018-06-13T21:05:39.425190Z",
     "start_time": "2018-06-13T21:05:35.297986Z"
    },
    "slideshow": {
     "slide_type": "fragment"
    }
   },
   "outputs": [
    {
     "data": {
      "text/plain": [
       "[(1, 0.07473674755927918),\n",
       " (2, 0.09200057163139172),\n",
       " (3, 0.13275710823384462),\n",
       " (4, 0.21101504992672906),\n",
       " (5, 0.1961408770877077),\n",
       " (6, 0.14156305707543346),\n",
       " (7, 0.10845870953425936),\n",
       " (8, 0.06585867821235018),\n",
       " (9, 0.27237547353737984),\n",
       " (10, 0.2364510047341792),\n",
       " (11, 0.08207047632413615),\n",
       " (12, 0.6235888690447704),\n",
       " (13, 0.04436301952147567),\n",
       " (14, 0.07219695476235263),\n",
       " (15, 0.11180220841097105),\n",
       " (16, 0.24650265310704142),\n",
       " (17, 0.1267836592437009),\n",
       " (18, 0.16594137798421438),\n",
       " (19, 0.09988745088314074),\n",
       " (20, 0.07386295088617181),\n",
       " (21, 0.14034464090874477),\n",
       " (22, 0.05435583471519226),\n",
       " (23, 0.34089112777540964),\n",
       " (24, 0.13566354175600648),\n",
       " (25, 0.1311927519650724)]"
      ]
     },
     "execution_count": 32,
     "metadata": {},
     "output_type": "execute_result"
    }
   ],
   "source": [
    "# Uses custom method \"create_compatible_termid_maps\"\n",
    "# IDF's coming from the large training corpus\n",
    "def get_training_tfidf(target_corpus):\n",
    "    training_tfidf = gensim.models.TfidfModel.load('models/posts_parsed_text.tfidf')\n",
    "    training_dictionary = gensim.corpora.Dictionary.load(\n",
    "        os.path.join(DATA_DIR, 'posts_parsed_text.dict'))\n",
    "    target_dictionary, target_training_transform, training_target_transform = \\\n",
    "        create_compatible_termid_maps(target_corpus.dictionary, training_dictionary)\n",
    "    return training_target_transform[\n",
    "        training_tfidf[\n",
    "            target_training_transform[\n",
    "                target_corpus]]]\n",
    "\n",
    "\n",
    "iter(get_training_tfidf(default_target_corpus)).next()"
   ]
  },
  {
   "cell_type": "code",
   "execution_count": 33,
   "metadata": {
    "ExecuteTime": {
     "end_time": "2018-06-13T21:05:39.442312Z",
     "start_time": "2018-06-13T21:05:39.429643Z"
    },
    "slideshow": {
     "slide_type": "skip"
    }
   },
   "outputs": [
    {
     "data": {
      "text/plain": [
       "[[], [(1, 1.0)], [(1, 0.34624155305796134), (2, 0.9381453975456102)]]"
      ]
     },
     "execution_count": 33,
     "metadata": {},
     "output_type": "execute_result"
    }
   ],
   "source": [
    "# Note, gensim will eliminate terms that appear in every document\n",
    "# This probably is not a concern when you are dealing with even slightly larger corpora \n",
    "test_docs = ['foo', 'foo bar', 'foo bar baz']\n",
    "test_texts = [[word for word in doc.lower().split()] for doc in test_docs]\n",
    "test_dict = gensim.corpora.Dictionary(test_texts)\n",
    "test_corpus = [test_dict.doc2bow(text) for text in test_texts]\n",
    "test_tfidf = gensim.models.TfidfModel(test_corpus)\n",
    "[doc for doc in test_tfidf[test_corpus]]"
   ]
  },
  {
   "cell_type": "markdown",
   "metadata": {
    "slideshow": {
     "slide_type": "subslide"
    }
   },
   "source": [
    "## Weighted-Average of Word Vectors "
   ]
  },
  {
   "cell_type": "markdown",
   "metadata": {
    "slideshow": {
     "slide_type": "subslide"
    }
   },
   "source": [
    "### Tf-idf document representation:  \n",
    "$$\n",
    "\\left(\n",
    "\\begin{array}{r|l}\n",
    "\\text{\"come\"} & 0.075\\\\\n",
    "\\text{\"delete\"} & 0.092\\\\\n",
    "\\text{\"editor\"} & 0.133\\\\\n",
    "\\text{\"excel\"} & 0.211\\\\\n",
    "\\text{\"file\"} & 0.196\\\\\n",
    "\\end{array}\n",
    "\\right)\n",
    "$$"
   ]
  },
  {
   "cell_type": "markdown",
   "metadata": {
    "slideshow": {
     "slide_type": "subslide"
    }
   },
   "source": [
    "### If you had a vector representation of words...\n",
    "$$\n",
    "\\left(\n",
    "\\begin{array}{r|l}\n",
    "\\text{\"come\"} & (0.1, \\ldots, 0.5)\\\\\n",
    "\\text{\"delete\"} & (0.3, \\ldots, 0.2)\\\\\n",
    "\\text{\"editor\"} & (0.1, \\ldots, 0.4)\\\\\n",
    "\\text{\"excel\"} & (0.6, \\ldots, 0.2)\\\\\n",
    "\\text{\"file\"} & (0.1, \\ldots, 0.3)\\\\\n",
    "\\end{array}\n",
    "\\right)\n",
    "$$"
   ]
  },
  {
   "cell_type": "markdown",
   "metadata": {
    "slideshow": {
     "slide_type": "subslide"
    }
   },
   "source": [
    "### Weighted-average of word vectors:\n",
    "\n",
    "$$\n",
    "\\text{\"come\" } 0.075 \\begin{pmatrix} 0.1\\\\ \\vdots\\\\ 0.5\\end{pmatrix} + \\text{\"delete\" }0.092 \\begin{pmatrix}0.3\\\\ \\vdots\\\\ 0.2 \\end{pmatrix} + \\text{\"editor\" }0.133\\begin{pmatrix} 0.1\\\\ \\vdots\\\\ 0.4\\end{pmatrix} + \\\\\n",
    "\\ldots \\text{\"excel\" }0.211\\begin{pmatrix} 0.6\\\\ \\vdots\\\\ 0.2\\end{pmatrix} + \\text{\"file\" }0.196\\begin{pmatrix} 0.1\\\\ \\vdots\\\\ 0.3\\end{pmatrix}\n",
    "$$\n",
    "\n",
    "Get another vector representation of a document."
   ]
  },
  {
   "cell_type": "markdown",
   "metadata": {
    "slideshow": {
     "slide_type": "notes"
    }
   },
   "source": [
    "The audience is probably familiar with ways to obtain word vectors... "
   ]
  },
  {
   "cell_type": "markdown",
   "metadata": {
    "slideshow": {
     "slide_type": "slide"
    }
   },
   "source": [
    "# Words and their Vector Space Representations"
   ]
  },
  {
   "cell_type": "markdown",
   "metadata": {
    "hidden": true,
    "slideshow": {
     "slide_type": "subslide"
    }
   },
   "source": [
    "#### Note:\n",
    "- Speaker models: trained on Spiceworks Community custom pre-processed corpus \n",
    "- Audience models: stubs from the gensim test repo; included so some cells will compile\n",
    "- Please train your own models for meaningful results\n",
    "- For more on training your own models using gensim see, for example: http://kavita-ganesan.com/gensim-word2vec-tutorial-starter-code"
   ]
  },
  {
   "cell_type": "code",
   "execution_count": 34,
   "metadata": {
    "ExecuteTime": {
     "end_time": "2018-06-13T21:05:43.410178Z",
     "start_time": "2018-06-13T21:05:39.446764Z"
    },
    "slideshow": {
     "slide_type": "notes"
    }
   },
   "outputs": [],
   "source": [
    "# For Audience: \n",
    "import gensim.test.utils\n",
    "w2v_path = gensim.test.utils.datapath('word2vec_old')\n",
    "w2v = gensim.models.Word2Vec.load(w2v_path)\n",
    "ftx_path = gensim.test.utils.datapath('fasttext_old')\n",
    "ftx = gensim.models.FastText.load(ftx_path)\n",
    "\n",
    "# For Speaker:\n",
    "# skip-gram, min_count=20, size=200, window=10\n",
    "# w2v = gensim.models.Word2Vec.load(\"models/word2vec_model_unigram_lowercase\")\n",
    "# ftx = gensim.models.FastText.load(\"models/fasttext_model_unigram_lowercase\")"
   ]
  },
  {
   "cell_type": "code",
   "execution_count": 35,
   "metadata": {
    "ExecuteTime": {
     "end_time": "2018-06-13T21:05:43.430028Z",
     "start_time": "2018-06-13T21:05:43.414164Z"
    },
    "slideshow": {
     "slide_type": "subslide"
    }
   },
   "outputs": [
    {
     "data": {
      "text/plain": [
       "array([ 6.694591  ,  0.38895807,  0.21677095, -1.5421165 ,  0.3427277 ,\n",
       "       -3.0070813 ,  3.3640888 , -2.1859026 , -0.5321782 ,  0.39831161,\n",
       "        0.14850397, -0.34108832, -0.43903095, -4.2409334 ,  4.750981  ,\n",
       "        1.519706  ,  2.2364984 ,  2.6070676 , -1.9528129 , -1.7099503 ,\n",
       "       -0.3922034 ,  2.4955602 , -2.095561  ,  0.59517896, -3.9916465 ,\n",
       "       -1.3998742 ,  2.2457292 , -0.2607091 ,  0.5151659 , -3.0636802 ,\n",
       "       -1.8669338 ,  3.8606756 , -1.7043344 ,  0.8678547 , -0.09430644,\n",
       "       -2.0161386 ,  3.0171952 , -5.9563336 ,  0.34313664, -1.7600299 ,\n",
       "       -1.1861383 , -1.6441221 ,  3.4817317 ,  2.0064442 ,  1.8825552 ,\n",
       "       -0.93692595,  0.9545581 ,  0.88767725, -0.25365126, -4.8420334 ,\n",
       "        1.8458993 , -4.6424503 , -0.2995679 ,  2.85827   ,  2.4341018 ,\n",
       "        0.6355176 ,  3.1100776 ,  0.61656976, -0.3025384 ,  2.0341814 ,\n",
       "       -3.4752703 ,  3.4563332 , -1.1403524 ,  2.7354548 , -5.389078  ,\n",
       "       -2.0250793 , -1.0329027 , -2.7134142 ,  4.2701206 , -2.4232833 ,\n",
       "       -1.6973151 ,  2.2349324 ,  0.27167565,  2.4942074 , -2.1068437 ,\n",
       "        3.492115  , -0.48141274, -1.0287368 ,  5.2063966 ,  5.2061024 ,\n",
       "        0.58976334,  0.13375227,  0.5866552 ,  5.1604156 ,  4.9384828 ,\n",
       "       -0.53747046,  4.3960876 ,  1.122552  , -3.655679  , -1.7357795 ,\n",
       "       -0.17357762, -0.31013188,  0.24718489,  3.469989  , -0.9873766 ,\n",
       "       -2.0775974 , -1.5141501 , -1.2634599 , -1.9545801 , -2.1829195 ,\n",
       "        4.3347273 ,  1.402046  , -1.0888788 ,  2.2604418 ,  2.0535445 ,\n",
       "        0.6189935 ,  3.686332  , -4.3181252 , -3.8312051 ,  0.9520428 ,\n",
       "        3.574413  ,  3.0603764 ,  2.6562135 , -1.6622652 , -2.1425269 ,\n",
       "       -2.029612  , -0.4269985 , -0.3872894 ,  1.5007062 ,  1.9023511 ,\n",
       "        1.6788528 ,  0.57999575,  1.7072138 ,  2.6545312 , -2.42481   ,\n",
       "        1.0359797 , -2.0442286 ,  1.9563363 , -0.64548254,  2.786297  ,\n",
       "       -3.1839392 , -0.80616105,  0.7182212 , -1.2113322 ,  1.5224029 ,\n",
       "        0.16080208,  4.6399374 ,  0.5382286 ,  0.18348293, -2.5933096 ,\n",
       "        0.3864574 ,  3.1873696 , -1.649182  ,  3.7165744 , -0.633116  ,\n",
       "        2.5700188 , -2.8877068 ,  0.14395484, -2.7072368 ,  3.2748313 ,\n",
       "        3.8248634 , -0.01761018, -0.04120568, -0.74410826, -3.153931  ,\n",
       "        0.6564478 , -0.77904075,  3.1527994 ,  0.5036778 ,  0.54254824,\n",
       "       -1.9500622 ,  1.0611713 ,  2.9091535 , -5.406746  ,  4.637801  ,\n",
       "        0.51357883, -0.6944246 ,  1.5368595 ,  2.027075  , -5.148254  ,\n",
       "       -0.51068914, -0.619793  ,  0.29961047,  1.3489952 , -2.0970802 ,\n",
       "       -3.1136825 , -2.7760851 ,  1.7612687 , -0.6314733 , -2.1063998 ,\n",
       "       -2.4901516 , -0.7505758 , -0.5576386 ,  2.2599125 ,  0.84559935,\n",
       "        1.4031283 , -1.073646  ,  0.76517385,  1.6438723 ,  0.02267118,\n",
       "        0.8797886 ,  6.105235  , -0.7520137 ,  0.3692846 , -2.8204627 ,\n",
       "        4.41362   ,  1.5348475 , -1.9668368 , -6.4355063 , -3.8345919 ],\n",
       "      dtype=float32)"
      ]
     },
     "execution_count": 35,
     "metadata": {},
     "output_type": "execute_result"
    }
   ],
   "source": [
    "w2v.wv[\"computer\"]"
   ]
  },
  {
   "cell_type": "code",
   "execution_count": 36,
   "metadata": {
    "ExecuteTime": {
     "end_time": "2018-06-13T21:05:43.773657Z",
     "start_time": "2018-06-13T21:05:43.434751Z"
    },
    "slideshow": {
     "slide_type": "subslide"
    }
   },
   "outputs": [
    {
     "data": {
      "text/plain": [
       "[(u'pc', 0.804652214050293),\n",
       " (u'machine', 0.7396371364593506),\n",
       " (u'workstation', 0.687087893486023),\n",
       " (u'laptop', 0.6701804399490356),\n",
       " (u'computers', 0.6077813506126404),\n",
       " (u'printer', 0.5282449722290039),\n",
       " (u'desktop', 0.5122043490409851),\n",
       " (u'device', 0.470727801322937),\n",
       " (u'pcand', 0.462885320186615),\n",
       " (u'pcs', 0.4616956114768982)]"
      ]
     },
     "execution_count": 36,
     "metadata": {},
     "output_type": "execute_result"
    }
   ],
   "source": [
    "w2v.wv.most_similar('computer', topn=10)"
   ]
  },
  {
   "cell_type": "code",
   "execution_count": 37,
   "metadata": {
    "ExecuteTime": {
     "end_time": "2018-06-13T21:05:45.395582Z",
     "start_time": "2018-06-13T21:05:43.778450Z"
    },
    "slideshow": {
     "slide_type": "subslide"
    }
   },
   "outputs": [
    {
     "data": {
      "text/plain": [
       "[(u'acomputer', 0.9429256916046143),\n",
       " (u'scomputer', 0.9186970591545105),\n",
       " (u'tocomputer', 0.9176599383354187),\n",
       " (u'computer4', 0.9165210127830505),\n",
       " (u'computeri', 0.9112850427627563),\n",
       " (u'komputer', 0.9096609354019165),\n",
       " (u'minicomputer', 0.9090799689292908),\n",
       " (u'computerin', 0.9068394303321838),\n",
       " (u'colcomputer', 0.9036481976509094),\n",
       " (u'computer3', 0.9017834663391113)]"
      ]
     },
     "execution_count": 37,
     "metadata": {},
     "output_type": "execute_result"
    }
   ],
   "source": [
    "ftx.wv.most_similar('computer', topn=10)"
   ]
  },
  {
   "cell_type": "markdown",
   "metadata": {
    "heading_collapsed": true,
    "slideshow": {
     "slide_type": "slide"
    }
   },
   "source": [
    "# Question Similarity"
   ]
  },
  {
   "cell_type": "markdown",
   "metadata": {
    "hidden": true,
    "slideshow": {
     "slide_type": "subslide"
    }
   },
   "source": [
    "## Dot Product\n",
    "- $N$: Size of the vocabulary \n",
    "- $X_1, X_2$: Document vectors, $N\\times 1$ dimensional  \n",
    "\n",
    "Sum of the pairwise products,\n",
    "\n",
    "\\begin{eqnarray*}\n",
    "X_1\\cdot X_2 &=& \\begin{pmatrix}X_{11} \\\\ \\vdots \\\\ X_{1N}\\end{pmatrix} \\cdot \\begin{pmatrix}X_{21} \\\\ \\vdots \\\\ X_{2N}\\end{pmatrix} = \\sum_{i=1}^N X_{1i}(X_{2i})\\\\\n",
    "&=& X_{11} (X_{21}) + X_{12}(X_{22}) + \\cdots + X_{1N}(X_{2N}).\n",
    "\\end{eqnarray*}"
   ]
  },
  {
   "cell_type": "markdown",
   "metadata": {
    "slideshow": {
     "slide_type": "subslide"
    }
   },
   "source": [
    "$$\\begin{pmatrix}1 \\\\ 2 \\\\ 3 \\end{pmatrix} \\cdot \\begin{pmatrix} 0\\\\ 1\\\\ 1 \\end{pmatrix} = 1(0)+2(1)+3(1)=5.$$"
   ]
  },
  {
   "cell_type": "code",
   "execution_count": 38,
   "metadata": {
    "ExecuteTime": {
     "end_time": "2018-06-13T21:05:45.426531Z",
     "start_time": "2018-06-13T21:05:45.401071Z"
    },
    "slideshow": {
     "slide_type": "fragment"
    }
   },
   "outputs": [
    {
     "data": {
      "text/plain": [
       "5"
      ]
     },
     "execution_count": 38,
     "metadata": {},
     "output_type": "execute_result"
    }
   ],
   "source": [
    "import scipy as sp\n",
    "sp.dot([1,2,3],[0,1,1])"
   ]
  },
  {
   "cell_type": "markdown",
   "metadata": {
    "hidden": true,
    "slideshow": {
     "slide_type": "subslide"
    }
   },
   "source": [
    "## Cosine Similarity\n",
    "\n",
    "\\begin{eqnarray} \n",
    "\\cos(X_1, X_2) &=& \\frac{X_1\\cdot X_2}{||X_1||\\text{ }||X_2||}\\\\\n",
    "               &=& \\frac{X_1^T X_2}{\\sqrt{X_1^T X_1}\\sqrt{X_2^T X_2}}\n",
    "\\end{eqnarray}\n"
   ]
  },
  {
   "cell_type": "markdown",
   "metadata": {
    "slideshow": {
     "slide_type": "subslide"
    }
   },
   "source": [
    "### Custom Word Count Vectors"
   ]
  },
  {
   "cell_type": "code",
   "execution_count": 39,
   "metadata": {
    "ExecuteTime": {
     "end_time": "2018-06-13T21:05:45.482816Z",
     "start_time": "2018-06-13T21:05:45.433998Z"
    },
    "slideshow": {
     "slide_type": "fragment"
    }
   },
   "outputs": [
    {
     "data": {
      "text/plain": [
       "array([[1.        , 0.34612355, 0.46451926],\n",
       "       [0.34612355, 1.        , 0.3578098 ],\n",
       "       [0.46451926, 0.3578098 , 1.0000001 ]], dtype=float32)"
      ]
     },
     "execution_count": 39,
     "metadata": {},
     "output_type": "execute_result"
    }
   ],
   "source": [
    "cosim_index = gensim.similarities.MatrixSimilarity(custom_target_corpus)\n",
    "cosim_index[custom_target_corpus]"
   ]
  },
  {
   "cell_type": "markdown",
   "metadata": {
    "slideshow": {
     "slide_type": "subslide"
    }
   },
   "source": [
    "### Custom Tf-idf Vectors \n",
    "With the idfs coming from the small target corpus"
   ]
  },
  {
   "cell_type": "code",
   "execution_count": 40,
   "metadata": {
    "ExecuteTime": {
     "end_time": "2018-06-13T21:05:45.512713Z",
     "start_time": "2018-06-13T21:05:45.486906Z"
    },
    "slideshow": {
     "slide_type": "fragment"
    }
   },
   "outputs": [
    {
     "data": {
      "text/plain": [
       "array([[0.99999994, 0.02023492, 0.03375025],\n",
       "       [0.02023492, 0.9999999 , 0.02354553],\n",
       "       [0.03375025, 0.02354553, 0.99999994]], dtype=float32)"
      ]
     },
     "execution_count": 40,
     "metadata": {},
     "output_type": "execute_result"
    }
   ],
   "source": [
    "target_tfidf = get_target_tfidf(custom_target_corpus)\n",
    "cosim_index = gensim.similarities.MatrixSimilarity(target_tfidf)\n",
    "cosim_index[target_tfidf]"
   ]
  },
  {
   "cell_type": "markdown",
   "metadata": {
    "slideshow": {
     "slide_type": "subslide"
    }
   },
   "source": [
    "### Custom Tf-idf Vectors\n",
    "With the idfs from the large training corpus"
   ]
  },
  {
   "cell_type": "code",
   "execution_count": 41,
   "metadata": {
    "ExecuteTime": {
     "end_time": "2018-06-13T21:05:49.909634Z",
     "start_time": "2018-06-13T21:05:45.518116Z"
    },
    "slideshow": {
     "slide_type": "fragment"
    }
   },
   "outputs": [
    {
     "data": {
      "text/plain": [
       "array([[1.        , 0.2963984 , 0.18740751],\n",
       "       [0.2963984 , 1.        , 0.24098796],\n",
       "       [0.18740751, 0.24098796, 1.        ]], dtype=float32)"
      ]
     },
     "execution_count": 41,
     "metadata": {},
     "output_type": "execute_result"
    }
   ],
   "source": [
    "target_corpus = custom_target_corpus\n",
    "training_tfidf = get_training_tfidf(target_corpus)\n",
    "cosim_index = gensim.similarities.MatrixSimilarity(training_tfidf)\n",
    "cosim_index[training_tfidf]"
   ]
  },
  {
   "cell_type": "code",
   "execution_count": 42,
   "metadata": {
    "ExecuteTime": {
     "end_time": "2018-06-13T21:05:49.930702Z",
     "start_time": "2018-06-13T21:05:49.913970Z"
    },
    "slideshow": {
     "slide_type": "subslide"
    }
   },
   "outputs": [
    {
     "data": {
      "text/plain": [
       "array([[1.        , 0.42794803, 0.19976044],\n",
       "       [0.42794803, 1.        , 0.205169  ],\n",
       "       [0.19976044, 0.205169  , 1.        ]], dtype=float32)"
      ]
     },
     "execution_count": 42,
     "metadata": {},
     "output_type": "execute_result"
    }
   ],
   "source": [
    "cosim_index = gensim.similarities.MatrixSimilarity(default_target_corpus)\n",
    "cosim_index[default_target_corpus]"
   ]
  },
  {
   "cell_type": "code",
   "execution_count": 43,
   "metadata": {
    "ExecuteTime": {
     "end_time": "2018-06-13T21:05:49.954274Z",
     "start_time": "2018-06-13T21:05:49.936284Z"
    },
    "slideshow": {
     "slide_type": "fragment"
    }
   },
   "outputs": [
    {
     "data": {
      "text/plain": [
       "array([[1.        , 0.02395141, 0.00793372],\n",
       "       [0.02395141, 1.        , 0.        ],\n",
       "       [0.00793372, 0.        , 1.        ]], dtype=float32)"
      ]
     },
     "execution_count": 43,
     "metadata": {},
     "output_type": "execute_result"
    }
   ],
   "source": [
    "target_tfidf = get_target_tfidf(default_target_corpus)\n",
    "cosim_index = gensim.similarities.MatrixSimilarity(target_tfidf)\n",
    "cosim_index[target_tfidf]"
   ]
  },
  {
   "cell_type": "markdown",
   "metadata": {
    "slideshow": {
     "slide_type": "fragment"
    }
   },
   "source": [
    "Notice that document 2 and 3 have 0 term overlap. \n",
    "\n",
    "Problematic? What about these two sentences: \n",
    "\n",
    "1. \"Fix broken laptop.\"\n",
    "2. \"Troubleshoot crashed computer.\"\n",
    "\n",
    "These sentences have zero term overlap, but express related meanings. They are \"semantically similar\". "
   ]
  },
  {
   "cell_type": "code",
   "execution_count": 44,
   "metadata": {
    "ExecuteTime": {
     "end_time": "2018-06-13T21:05:54.477018Z",
     "start_time": "2018-06-13T21:05:49.958438Z"
    },
    "slideshow": {
     "slide_type": "notes"
    }
   },
   "outputs": [
    {
     "data": {
      "text/plain": [
       "array([[1.        , 0.26191717, 0.10925236],\n",
       "       [0.26191717, 1.        , 0.16283868],\n",
       "       [0.10925236, 0.16283868, 1.        ]], dtype=float32)"
      ]
     },
     "execution_count": 44,
     "metadata": {},
     "output_type": "execute_result"
    }
   ],
   "source": [
    "target_corpus = default_target_corpus\n",
    "training_tfidf = get_training_tfidf(target_corpus)\n",
    "cosim_index = gensim.similarities.MatrixSimilarity(training_tfidf)\n",
    "cosim_index[training_tfidf]"
   ]
  },
  {
   "cell_type": "markdown",
   "metadata": {
    "slideshow": {
     "slide_type": "subslide"
    }
   },
   "source": [
    "### Cosine similarity of word vectors"
   ]
  },
  {
   "cell_type": "code",
   "execution_count": 45,
   "metadata": {
    "ExecuteTime": {
     "end_time": "2018-06-13T21:05:54.495670Z",
     "start_time": "2018-06-13T21:05:54.481768Z"
    }
   },
   "outputs": [
    {
     "data": {
      "text/plain": [
       "0.8046523"
      ]
     },
     "execution_count": 45,
     "metadata": {},
     "output_type": "execute_result"
    }
   ],
   "source": [
    "wv_computer = w2v.wv['computer']\n",
    "wv_pc = w2v.wv['pc']\n",
    "sp.dot(wv_computer, wv_pc)/(sp.sqrt(sp.dot(wv_computer, wv_computer))* sp.sqrt(sp.dot(wv_pc, wv_pc)))"
   ]
  },
  {
   "cell_type": "code",
   "execution_count": 46,
   "metadata": {
    "ExecuteTime": {
     "end_time": "2018-06-13T21:05:54.535154Z",
     "start_time": "2018-06-13T21:05:54.500916Z"
    }
   },
   "outputs": [
    {
     "data": {
      "text/plain": [
       "[(u'pc', 0.804652214050293)]"
      ]
     },
     "execution_count": 46,
     "metadata": {},
     "output_type": "execute_result"
    }
   ],
   "source": [
    "w2v.wv.most_similar('computer', topn=1)"
   ]
  },
  {
   "cell_type": "code",
   "execution_count": 47,
   "metadata": {
    "ExecuteTime": {
     "end_time": "2018-06-13T21:05:54.546378Z",
     "start_time": "2018-06-13T21:05:54.539851Z"
    },
    "slideshow": {
     "slide_type": "notes"
    }
   },
   "outputs": [],
   "source": [
    "# Display a term-similarity matrix as a pandas dataframe indexed by the terms \n",
    "def display_term_similarities(term_dict, M):\n",
    "    terms = [term_dict[k] for k in sorted(term_dict.iterkeys())]\n",
    "    return pd.DataFrame(M.todense(), \n",
    "             index=terms, \n",
    "             columns=terms).style.set_table_styles(styles)"
   ]
  },
  {
   "cell_type": "markdown",
   "metadata": {
    "slideshow": {
     "slide_type": "subslide"
    }
   },
   "source": [
    "### Term Similarity Matrix\n",
    "\n",
    "Gensim word embedding vectors have a *similarity matrix* feature:\n",
    "\n",
    "    gensim.models.keyedvectors.similarity_matrix()"
   ]
  },
  {
   "cell_type": "code",
   "execution_count": 48,
   "metadata": {
    "ExecuteTime": {
     "end_time": "2018-06-13T21:05:54.597124Z",
     "start_time": "2018-06-13T21:05:54.550987Z"
    },
    "slideshow": {
     "slide_type": "subslide"
    }
   },
   "outputs": [
    {
     "data": {
      "text/html": [
       "<style  type=\"text/css\" >\n",
       "    #T_8f84e257_6f4d_11e8_8a5c_9801a791dcdf th {\n",
       "          font-size: 30px;\n",
       "    }    #T_8f84e257_6f4d_11e8_8a5c_9801a791dcdf td {\n",
       "          font-size: 30px;\n",
       "    }</style>  \n",
       "<table id=\"T_8f84e257_6f4d_11e8_8a5c_9801a791dcdf\" > \n",
       "<thead>    <tr> \n",
       "        <th class=\"blank level0\" ></th> \n",
       "        <th class=\"col_heading level0 col0\" >broken</th> \n",
       "        <th class=\"col_heading level0 col1\" >fix</th> \n",
       "        <th class=\"col_heading level0 col2\" >laptop</th> \n",
       "        <th class=\"col_heading level0 col3\" >computer</th> \n",
       "        <th class=\"col_heading level0 col4\" >crashed</th> \n",
       "        <th class=\"col_heading level0 col5\" >troubleshoot</th> \n",
       "    </tr></thead> \n",
       "<tbody>    <tr> \n",
       "        <th id=\"T_8f84e257_6f4d_11e8_8a5c_9801a791dcdflevel0_row0\" class=\"row_heading level0 row0\" >broken</th> \n",
       "        <td id=\"T_8f84e257_6f4d_11e8_8a5c_9801a791dcdfrow0_col0\" class=\"data row0 col0\" >1</td> \n",
       "        <td id=\"T_8f84e257_6f4d_11e8_8a5c_9801a791dcdfrow0_col1\" class=\"data row0 col1\" >0.0835181</td> \n",
       "        <td id=\"T_8f84e257_6f4d_11e8_8a5c_9801a791dcdfrow0_col2\" class=\"data row0 col2\" >0.0143308</td> \n",
       "        <td id=\"T_8f84e257_6f4d_11e8_8a5c_9801a791dcdfrow0_col3\" class=\"data row0 col3\" >0.0166764</td> \n",
       "        <td id=\"T_8f84e257_6f4d_11e8_8a5c_9801a791dcdfrow0_col4\" class=\"data row0 col4\" >0.126778</td> \n",
       "        <td id=\"T_8f84e257_6f4d_11e8_8a5c_9801a791dcdfrow0_col5\" class=\"data row0 col5\" >0.0100578</td> \n",
       "    </tr>    <tr> \n",
       "        <th id=\"T_8f84e257_6f4d_11e8_8a5c_9801a791dcdflevel0_row1\" class=\"row_heading level0 row1\" >fix</th> \n",
       "        <td id=\"T_8f84e257_6f4d_11e8_8a5c_9801a791dcdfrow1_col0\" class=\"data row1 col0\" >0.0835181</td> \n",
       "        <td id=\"T_8f84e257_6f4d_11e8_8a5c_9801a791dcdfrow1_col1\" class=\"data row1 col1\" >1</td> \n",
       "        <td id=\"T_8f84e257_6f4d_11e8_8a5c_9801a791dcdfrow1_col2\" class=\"data row1 col2\" >0.0156713</td> \n",
       "        <td id=\"T_8f84e257_6f4d_11e8_8a5c_9801a791dcdfrow1_col3\" class=\"data row1 col3\" >0.0323089</td> \n",
       "        <td id=\"T_8f84e257_6f4d_11e8_8a5c_9801a791dcdfrow1_col4\" class=\"data row1 col4\" >0.059446</td> \n",
       "        <td id=\"T_8f84e257_6f4d_11e8_8a5c_9801a791dcdfrow1_col5\" class=\"data row1 col5\" >0.429156</td> \n",
       "    </tr>    <tr> \n",
       "        <th id=\"T_8f84e257_6f4d_11e8_8a5c_9801a791dcdflevel0_row2\" class=\"row_heading level0 row2\" >laptop</th> \n",
       "        <td id=\"T_8f84e257_6f4d_11e8_8a5c_9801a791dcdfrow2_col0\" class=\"data row2 col0\" >0.0143308</td> \n",
       "        <td id=\"T_8f84e257_6f4d_11e8_8a5c_9801a791dcdfrow2_col1\" class=\"data row2 col1\" >0.0156713</td> \n",
       "        <td id=\"T_8f84e257_6f4d_11e8_8a5c_9801a791dcdfrow2_col2\" class=\"data row2 col2\" >1</td> \n",
       "        <td id=\"T_8f84e257_6f4d_11e8_8a5c_9801a791dcdfrow2_col3\" class=\"data row2 col3\" >0.449142</td> \n",
       "        <td id=\"T_8f84e257_6f4d_11e8_8a5c_9801a791dcdfrow2_col4\" class=\"data row2 col4\" >0.0468678</td> \n",
       "        <td id=\"T_8f84e257_6f4d_11e8_8a5c_9801a791dcdfrow2_col5\" class=\"data row2 col5\" >0.00492678</td> \n",
       "    </tr>    <tr> \n",
       "        <th id=\"T_8f84e257_6f4d_11e8_8a5c_9801a791dcdflevel0_row3\" class=\"row_heading level0 row3\" >computer</th> \n",
       "        <td id=\"T_8f84e257_6f4d_11e8_8a5c_9801a791dcdfrow3_col0\" class=\"data row3 col0\" >0.0166764</td> \n",
       "        <td id=\"T_8f84e257_6f4d_11e8_8a5c_9801a791dcdfrow3_col1\" class=\"data row3 col1\" >0.0323089</td> \n",
       "        <td id=\"T_8f84e257_6f4d_11e8_8a5c_9801a791dcdfrow3_col2\" class=\"data row3 col2\" >0.449142</td> \n",
       "        <td id=\"T_8f84e257_6f4d_11e8_8a5c_9801a791dcdfrow3_col3\" class=\"data row3 col3\" >1</td> \n",
       "        <td id=\"T_8f84e257_6f4d_11e8_8a5c_9801a791dcdfrow3_col4\" class=\"data row3 col4\" >0.0202786</td> \n",
       "        <td id=\"T_8f84e257_6f4d_11e8_8a5c_9801a791dcdfrow3_col5\" class=\"data row3 col5\" >0.0171988</td> \n",
       "    </tr>    <tr> \n",
       "        <th id=\"T_8f84e257_6f4d_11e8_8a5c_9801a791dcdflevel0_row4\" class=\"row_heading level0 row4\" >crashed</th> \n",
       "        <td id=\"T_8f84e257_6f4d_11e8_8a5c_9801a791dcdfrow4_col0\" class=\"data row4 col0\" >0.126778</td> \n",
       "        <td id=\"T_8f84e257_6f4d_11e8_8a5c_9801a791dcdfrow4_col1\" class=\"data row4 col1\" >0.059446</td> \n",
       "        <td id=\"T_8f84e257_6f4d_11e8_8a5c_9801a791dcdfrow4_col2\" class=\"data row4 col2\" >0.0468678</td> \n",
       "        <td id=\"T_8f84e257_6f4d_11e8_8a5c_9801a791dcdfrow4_col3\" class=\"data row4 col3\" >0.0202786</td> \n",
       "        <td id=\"T_8f84e257_6f4d_11e8_8a5c_9801a791dcdfrow4_col4\" class=\"data row4 col4\" >1</td> \n",
       "        <td id=\"T_8f84e257_6f4d_11e8_8a5c_9801a791dcdfrow4_col5\" class=\"data row4 col5\" >0.0169646</td> \n",
       "    </tr>    <tr> \n",
       "        <th id=\"T_8f84e257_6f4d_11e8_8a5c_9801a791dcdflevel0_row5\" class=\"row_heading level0 row5\" >troubleshoot</th> \n",
       "        <td id=\"T_8f84e257_6f4d_11e8_8a5c_9801a791dcdfrow5_col0\" class=\"data row5 col0\" >0.0100578</td> \n",
       "        <td id=\"T_8f84e257_6f4d_11e8_8a5c_9801a791dcdfrow5_col1\" class=\"data row5 col1\" >0.429156</td> \n",
       "        <td id=\"T_8f84e257_6f4d_11e8_8a5c_9801a791dcdfrow5_col2\" class=\"data row5 col2\" >0.00492678</td> \n",
       "        <td id=\"T_8f84e257_6f4d_11e8_8a5c_9801a791dcdfrow5_col3\" class=\"data row5 col3\" >0.0171988</td> \n",
       "        <td id=\"T_8f84e257_6f4d_11e8_8a5c_9801a791dcdfrow5_col4\" class=\"data row5 col4\" >0.0169646</td> \n",
       "        <td id=\"T_8f84e257_6f4d_11e8_8a5c_9801a791dcdfrow5_col5\" class=\"data row5 col5\" >1</td> \n",
       "    </tr></tbody> \n",
       "</table> "
      ],
      "text/plain": [
       "<pandas.io.formats.style.Styler at 0x12c9a2d10>"
      ]
     },
     "execution_count": 48,
     "metadata": {},
     "output_type": "execute_result"
    }
   ],
   "source": [
    "dict_stub = {0: \"broken\", 1: \"fix\", 2:\"laptop\", 3:\"computer\", 4:\"crashed\", 5:\"troubleshoot\"}\n",
    "M_eg = w2v.wv.similarity_matrix(dict_stub)\n",
    "display_term_similarities(dict_stub, M_eg) "
   ]
  },
  {
   "cell_type": "code",
   "execution_count": 49,
   "metadata": {
    "ExecuteTime": {
     "end_time": "2018-06-13T21:05:56.282283Z",
     "start_time": "2018-06-13T21:05:54.601310Z"
    },
    "slideshow": {
     "slide_type": "subslide"
    }
   },
   "outputs": [],
   "source": [
    "target_corpus = custom_target_corpus\n",
    "M_w2v = w2v.wv.similarity_matrix(target_corpus.dictionary)\n",
    "M_ftx = ftx.wv.similarity_matrix(target_corpus.dictionary)\n",
    "#display_term_similarities(target_corpus.dictionary, M_ftx)"
   ]
  },
  {
   "cell_type": "markdown",
   "metadata": {
    "hidden": true,
    "slideshow": {
     "slide_type": "subslide"
    }
   },
   "source": [
    "## Soft Cosine Similarity\n",
    "$M$: Term-similarity matrix, $N\\times N$ dimensional\n",
    "\n",
    "$$ \\cos_M (X_1, X_2) = \\frac{X_1^T M X_2}{\\sqrt{X_1^T M X_1}\\sqrt{X_2^T M X_2}}$$"
   ]
  },
  {
   "cell_type": "code",
   "execution_count": 50,
   "metadata": {
    "ExecuteTime": {
     "end_time": "2018-06-13T21:06:00.608562Z",
     "start_time": "2018-06-13T21:05:56.286865Z"
    },
    "slideshow": {
     "slide_type": "subslide"
    }
   },
   "outputs": [],
   "source": [
    "target_corpus = custom_target_corpus\n",
    "training_tfidf = get_training_tfidf(target_corpus)\n",
    "doc_w2vsim_index = gensim.similarities.SoftCosineSimilarity(training_tfidf, M_w2v)\n",
    "doc_ftxsim_index = gensim.similarities.SoftCosineSimilarity(training_tfidf, M_ftx)"
   ]
  },
  {
   "cell_type": "code",
   "execution_count": 51,
   "metadata": {
    "ExecuteTime": {
     "end_time": "2018-06-13T21:06:00.665034Z",
     "start_time": "2018-06-13T21:06:00.614275Z"
    },
    "slideshow": {
     "slide_type": "fragment"
    }
   },
   "outputs": [
    {
     "name": "stdout",
     "output_type": "stream",
     "text": [
      "[[1.         0.43940265 0.29319931]\n",
      " [0.4394027  1.         0.30979307]\n",
      " [0.29319931 0.30979307 1.        ]]\n"
     ]
    }
   ],
   "source": [
    "# Current master branch now accepts corpus object instead of a list\n",
    "print(doc_w2vsim_index[[bow for bow in training_tfidf]])"
   ]
  },
  {
   "cell_type": "code",
   "execution_count": 52,
   "metadata": {
    "ExecuteTime": {
     "end_time": "2018-06-13T21:06:00.698320Z",
     "start_time": "2018-06-13T21:06:00.670734Z"
    },
    "scrolled": true,
    "slideshow": {
     "slide_type": "fragment"
    }
   },
   "outputs": [
    {
     "name": "stdout",
     "output_type": "stream",
     "text": [
      "[[1.         0.43139106 0.27567103]\n",
      " [0.43139103 1.         0.31230477]\n",
      " [0.27567106 0.31230477 1.        ]]\n"
     ]
    }
   ],
   "source": [
    "print(doc_ftxsim_index[[bow for bow in training_tfidf]])"
   ]
  },
  {
   "cell_type": "markdown",
   "metadata": {
    "slideshow": {
     "slide_type": "slide"
    }
   },
   "source": [
    "\n",
    "# Question Clustering"
   ]
  },
  {
   "cell_type": "markdown",
   "metadata": {
    "slideshow": {
     "slide_type": "subslide"
    }
   },
   "source": [
    "Once we have document similarity scores, how do we choose what goes together? "
   ]
  },
  {
   "cell_type": "markdown",
   "metadata": {
    "slideshow": {
     "slide_type": "subslide"
    }
   },
   "source": [
    "View as weighted edges in a graph:\n",
    "\n",
    "$$\n",
    "\\begin{array}{r|l}\n",
    "                      & \\cos_{M_{w2v}}\\\\\\hline\n",
    "\\textbf{(doc1, doc2)} & 0.55085301 \\\\\n",
    "\\textbf{(doc1, doc3)} & 0.40678137 \\\\\n",
    "\\textbf{(doc2, doc3)} & 0.37607284\n",
    "\\end{array}\n",
    "$$"
   ]
  },
  {
   "cell_type": "code",
   "execution_count": 53,
   "metadata": {
    "ExecuteTime": {
     "end_time": "2018-06-13T21:06:00.981991Z",
     "start_time": "2018-06-13T21:06:00.702556Z"
    },
    "slideshow": {
     "slide_type": "subslide"
    }
   },
   "outputs": [],
   "source": [
    "doc_w2vsim = doc_w2vsim_index[[bow for bow in training_tfidf]]\n",
    "w2vsim_df = pd.DataFrame([[1, 2, doc_w2vsim[0,1]],\n",
    "                          [1, 3, doc_w2vsim[0,2]],\n",
    "                          [2, 3, doc_w2vsim[1,2]]], \n",
    "                         columns=[\"s\", \"f\", \"weight\"])\n",
    "\n",
    "import matplotlib.pyplot as plt # Python plotting library\n",
    "%matplotlib inline \n",
    "import networkx as nx # Python graph library\n",
    "G=nx.DiGraph()\n",
    "G.add_weighted_edges_from(w2vsim_df.values)"
   ]
  },
  {
   "cell_type": "code",
   "execution_count": 54,
   "metadata": {
    "ExecuteTime": {
     "end_time": "2018-06-13T21:06:01.200834Z",
     "start_time": "2018-06-13T21:06:00.988291Z"
    }
   },
   "outputs": [
    {
     "data": {
      "text/plain": [
       "(-1.2040387077755357,\n",
       " 1.1472644961139715,\n",
       " -0.7787549296400375,\n",
       " 0.6927731901272629)"
      ]
     },
     "execution_count": 54,
     "metadata": {},
     "output_type": "execute_result"
    },
    {
     "data": {
      "image/png": "[encoded data removed]",
      "text/plain": [
       "<Figure size 432x288 with 1 Axes>"
      ]
     },
     "metadata": {},
     "output_type": "display_data"
    }
   ],
   "source": [
    "pos=nx.spring_layout(G)\n",
    "nx.draw_networkx_nodes(G, pos, node_size=1000)\n",
    "nx.draw_networkx_labels(G,pos, font_size=16)\n",
    "nx.draw_networkx_edges(G, pos, edgelist=G.edges, width=5, arrowsize=20)\n",
    "nx.draw_networkx_edge_labels(G, pos, edge_labels = nx.get_edge_attributes(G, 'weight'))\n",
    "plt.axis('off')"
   ]
  },
  {
   "cell_type": "markdown",
   "metadata": {
    "slideshow": {
     "slide_type": "slide"
    }
   },
   "source": [
    "# Supervised Model"
   ]
  },
  {
   "cell_type": "markdown",
   "metadata": {
    "slideshow": {
     "slide_type": "subslide"
    }
   },
   "source": [
    "## Score Variations\n",
    "\n",
    "### Preprocessing \n",
    "- Default, Custom, Variations\n",
    "\n",
    "### Target Corpus\n",
    "- Questions, Topics, Posts, Subjects, Combinations\n",
    "\n",
    "### Training Corpus\n",
    "- Community,  Serverfault, Superuser\n",
    "\n",
    "### Word  Vector \n",
    "- Characters,  Fasttext,  Word2vec, Various Parameters\n",
    "\n",
    "### Document Vector\n",
    "- Word Count, Tf-idf, Weighted-Avg Word2vec\n",
    "\n",
    "### Word  Similarity\n",
    "- Levenstein, Cosine\n",
    "\n",
    "### Document Similarity \n",
    "- Cosine, Softcosine"
   ]
  },
  {
   "cell_type": "markdown",
   "metadata": {
    "slideshow": {
     "slide_type": "subslide"
    }
   },
   "source": [
    "## Model Setup\n",
    "$$\n",
    "\\begin{array}{r|llll}\n",
    "                   & \\cos_{M_{w2v}} & \\cos_{M_{ftx}} & \\cos_{M_{lev}} & \\textbf{label}\\\\\\hline\n",
    "\\textbf{doc1, doc2} & 0.55085301 & 0.64283401 & \\cdots & 1\\\\\n",
    "\\textbf{doc1, doc3} & 0.40678137 & 0.52912646 & \\cdots & 0 \\\\\n",
    "\\textbf{doc2, doc3} & 0.37607284 & 0.49222433 & \\cdots & 0\n",
    "\\end{array}\n",
    "$$\n",
    "\n",
    "- Train some standard regressors on selected features to obtain a final score\n",
    "- Leverage Human-in-the-Loop patterns to grow repository of training data"
   ]
  },
  {
   "cell_type": "markdown",
   "metadata": {
    "slideshow": {
     "slide_type": "slide"
    }
   },
   "source": [
    "# Business Impact"
   ]
  },
  {
   "cell_type": "markdown",
   "metadata": {
    "slideshow": {
     "slide_type": "subslide"
    }
   },
   "source": [
    "By conveniently showing users answers to similar questions asked on the site:\n",
    "\n",
    "- **Manually curated** clusters showed **30-40% lift in engagement**  \n",
    "- **Algorithmically curated** clusters showed **16% lift in engagement** \n",
    "\n",
    "### Future Work\n",
    "- Improve the algorithm to the standard of manual curating\n",
    "- Expand corpus with publicly available datasets"
   ]
  },
  {
   "cell_type": "markdown",
   "metadata": {
    "slideshow": {
     "slide_type": "slide"
    }
   },
   "source": [
    "<img src=\"images/top_10_graph.png\" width=\"1000px\" style=\"float: top;\"/>"
   ]
  }
 ],
 "metadata": {
  "celltoolbar": "Slideshow",
  "hide_input": false,
  "kernelspec": {
   "display_name": "Python 2",
   "language": "python",
   "name": "python2"
  },
  "language_info": {
   "codemirror_mode": {
    "name": "ipython",
    "version": 2
   },
   "file_extension": ".py",
   "mimetype": "text/x-python",
   "name": "python",
   "nbconvert_exporter": "python",
   "pygments_lexer": "ipython2",
   "version": "2.7.13"
  },
  "latex_envs": {
   "LaTeX_envs_menu_present": true,
   "autoclose": false,
   "autocomplete": true,
   "bibliofile": "biblio.bib",
   "cite_by": "apalike",
   "current_citInitial": 1,
   "eqLabelWithNumbers": true,
   "eqNumInitial": 1,
   "hotkeys": {
    "equation": "Ctrl-E",
    "itemize": "Ctrl-I"
   },
   "labels_anchors": false,
   "latex_user_defs": false,
   "report_style_numbering": false,
   "user_envs_cfg": false
  },
  "livereveal": {
   "scroll": true
  }
 },
 "nbformat": 4,
 "nbformat_minor": 1
}
